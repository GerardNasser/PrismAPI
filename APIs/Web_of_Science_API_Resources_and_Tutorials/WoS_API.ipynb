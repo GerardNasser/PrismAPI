{
 "cells": [
  {
   "cell_type": "code",
   "execution_count": 24,
   "metadata": {},
   "outputs": [],
   "source": [
    "from IPython.display import Image"
   ]
  },
  {
   "cell_type": "markdown",
   "metadata": {},
   "source": [
    "## API Tutorial\n",
    "This document has two aims:\n",
    "\n",
    "- (1) To show you the process of registering and using an API application from Web of Science / Clarivate\n",
    "\n",
    "- (2) Utilize a script written by the author to efficiently retrieve results from multiple pages."
   ]
  },
  {
   "cell_type": "markdown",
   "metadata": {},
   "source": [
    "### Create an Account or Log In\n",
    "The first step is to register or log into https://developer.clarivate.com/ .\n",
    "\n",
    "![Step 1](./tutorial_screenshots/Screenshot%202025-09-03%20at%203.40.48 PM.png)"
   ]
  },
  {
   "cell_type": "markdown",
   "metadata": {},
   "source": [
    "### Register the Application Step 1\n",
    "After you will register for an API application. Please click \"Register\".\n",
    "\n",
    "![Step 2](./tutorial_screenshots/Screenshot%202025-09-03%20at%203.41.46 PM.png)"
   ]
  },
  {
   "cell_type": "markdown",
   "metadata": {},
   "source": [
    "### Register a New Application Step 2\n",
    "Then click on \"Register a new Application\" ...\n",
    "\n",
    "![Step 3](./tutorial_screenshots/Screenshot%202025-09-03%20at%203.43.05 PM.png)\n",
    "\n",
    "... and fill out the form.\n",
    "\n",
    "![Step 4](./tutorial_screenshots/Screenshot%202025-09-03%20at%203.43.45 PM.png)"
   ]
  },
  {
   "cell_type": "markdown",
   "metadata": {},
   "source": [
    "### Approval\n",
    "Once the registration is approved you can click on the Name link of your application as seen below.\n",
    "\n",
    "![Step 5](./tutorial_screenshots/Screenshot%202025-09-03%20at%203.44.04 PM.png)\n",
    "\n",
    "Then click on the name if the API.\n",
    "\n",
    "![Step 6](./tutorial_screenshots/Screenshot%202025-09-03%20at%203.44.37 PM.png)\n",
    "\n",
    "This will take you to a window where you can click the \"Try It\" button and you can then see the special UI for your registered application.\n",
    "\n",
    "![Step 7](./tutorial_screenshots/Screenshot%202025-09-03%20at%203.45.19 PM.png)\n",
    "\n",
    "The rest is play around and learn! This interface allows you to use the AP without code. However, it is not the most efficient. Below is a notebook that will help you get more results faster. Just remember to not exceed the limit of your subscription!"
   ]
  },
  {
   "cell_type": "code",
   "execution_count": 25,
   "metadata": {},
   "outputs": [],
   "source": [
    "# THESE ARE PLACE HOLDERS PLEASE MAKE SURE THE INFORMATION MATCHES YOUR SEARCH\n",
    "API_KEY = 'YOUR_API_KEY' # Replace with your actual key\n",
    "database_code = 'WOK'\n",
    "page_limit = 50\n",
    "page_max = 5\n",
    "sort_field = 'LD'\n",
    "ascending = 'true' # or 'false' or ''\n",
    "base_url = 'https://api.clarivate.com/apis/wos-starter/v1/documents'\n",
    "search_phrase = '\"climate change\" OR \"global warming\" AND sustainability'"
   ]
  },
  {
   "cell_type": "code",
   "execution_count": 26,
   "metadata": {},
   "outputs": [],
   "source": [
    "import urllib.parse\n",
    "import requests\n",
    "import json\n",
    "import csv"
   ]
  },
  {
   "cell_type": "code",
   "execution_count": 27,
   "metadata": {},
   "outputs": [],
   "source": [
    "def create_encoded_query(phrase):\n",
    "    \"\"\"Encodes a string for use in a URL.\"\"\"\n",
    "    return urllib.parse.quote(phrase)\n"
   ]
  },
  {
   "cell_type": "code",
   "execution_count": 28,
   "metadata": {},
   "outputs": [],
   "source": [
    "search_phrase_with_tag = f'TS=({search_phrase})'\n",
    "\n",
    "params = {\n",
    "    'db': database_code,\n",
    "    'q': search_phrase_with_tag,\n",
    "    'limit': page_limit\n",
    "}\n",
    "\n",
    "if ascending == 'true':\n",
    "    params['sortField'] = f'{sort_field} A' # Note: API docs use a space\n",
    "elif ascending == 'false':\n",
    "    params['sortField'] = f'{sort_field} D'\n",
    "else:\n",
    "    params['sortField'] = sort_field\n"
   ]
  },
  {
   "cell_type": "code",
   "execution_count": 29,
   "metadata": {},
   "outputs": [],
   "source": [
    "headers = {\n",
    "    'accept': 'application/json',\n",
    "    'X-ApiKey': API_KEY\n",
    "}\n",
    "\n",
    "all_results = []\n"
   ]
  },
  {
   "cell_type": "code",
   "execution_count": 30,
   "metadata": {},
   "outputs": [
    {
     "name": "stdout",
     "output_type": "stream",
     "text": [
      "Requesting page 1...\n",
      "  ... Error on page 1: Status code 401\n",
      "  ... Response: {\n",
      "  \"message\":\"Invalid authentication credentials\"\n",
      "}\n"
     ]
    }
   ],
   "source": [
    "for i in range(1, page_max + 1):\n",
    "  # Set the page for the current iteration\n",
    "  params['page'] = i\n",
    "  \n",
    "  print(f\"Requesting page {i}...\")\n",
    "  \n",
    "  # Make the API call\n",
    "  response = requests.get(base_url, headers=headers, params=params)\n",
    "  \n",
    "  # Check if the request was successful\n",
    "  if response.status_code == 200:\n",
    "      data = response.json()\n",
    "      # The list of documents is in the 'hits' key of the JSON response\n",
    "      page_hits = data.get('hits', [])\n",
    "      if page_hits:\n",
    "          # Add the results from this page to our master list\n",
    "          all_results.extend(page_hits)\n",
    "          print(f\"  ... Success! Added {len(page_hits)} results.\")\n",
    "      else:\n",
    "          # Stop if a page returns no results\n",
    "          print(\"  ... No more results found. Stopping.\")\n",
    "          break \n",
    "  else:\n",
    "      print(f\"  ... Error on page {i}: Status code {response.status_code}\")\n",
    "      print(f\"  ... Response: {response.text}\")\n",
    "      # Stop the loop if an error occurs\n",
    "      break"
   ]
  },
  {
   "cell_type": "code",
   "execution_count": 31,
   "metadata": {},
   "outputs": [
    {
     "name": "stdout",
     "output_type": "stream",
     "text": [
      "\n",
      "No results to save to CSV.\n"
     ]
    }
   ],
   "source": [
    "# Define the name of the output CSV file\n",
    "csv_file_name = 'wos_results.csv'\n",
    "\n",
    "# Check if we have any results to write\n",
    "if all_results:\n",
    "    # Open the file in write mode\n",
    "    with open(csv_file_name, 'w', newline='', encoding='utf-8') as csvfile:\n",
    "        # The 'all_results' list contains dictionaries. We can use the keys\n",
    "        # of the first dictionary as the headers for our CSV.\n",
    "        headers = all_results[0].keys()\n",
    "        \n",
    "        # Create a DictWriter object which maps dictionaries to CSV rows\n",
    "        writer = csv.DictWriter(csvfile, fieldnames=headers)\n",
    "        \n",
    "        # Write the header row\n",
    "        writer.writeheader()\n",
    "        \n",
    "        # Write all the dictionary rows from our results list\n",
    "        writer.writerows(all_results)\n",
    "        \n",
    "    print(f\"\\nSuccessfully saved {len(all_results)} results to {csv_file_name}\")\n",
    "else:\n",
    "    print(\"\\nNo results to save to CSV.\")"
   ]
  }
 ],
 "metadata": {
  "kernelspec": {
   "display_name": "Python 3",
   "language": "python",
   "name": "python3"
  },
  "language_info": {
   "codemirror_mode": {
    "name": "ipython",
    "version": 3
   },
   "file_extension": ".py",
   "mimetype": "text/x-python",
   "name": "python",
   "nbconvert_exporter": "python",
   "pygments_lexer": "ipython3",
   "version": "3.10.4"
  }
 },
 "nbformat": 4,
 "nbformat_minor": 2
}
