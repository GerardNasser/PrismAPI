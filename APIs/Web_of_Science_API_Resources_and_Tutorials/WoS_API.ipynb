{
 "cells": [
  {
   "cell_type": "code",
   "execution_count": 1,
   "metadata": {},
   "outputs": [
    {
     "name": "stdout",
     "output_type": "stream",
     "text": [
      "Requirement already satisfied: ipython in /Users/gerardnasseruncc/Library/Python/3.10/lib/python/site-packages (8.37.0)\n",
      "Requirement already satisfied: python-dotenv in /Library/Frameworks/Python.framework/Versions/3.10/lib/python3.10/site-packages (1.1.1)\n",
      "Requirement already satisfied: requests in /Library/Frameworks/Python.framework/Versions/3.10/lib/python3.10/site-packages (2.32.5)\n",
      "Requirement already satisfied: matplotlib-inline in /Users/gerardnasseruncc/Library/Python/3.10/lib/python/site-packages (from ipython) (0.1.7)\n",
      "Requirement already satisfied: pygments>=2.4.0 in /Users/gerardnasseruncc/Library/Python/3.10/lib/python/site-packages (from ipython) (2.19.2)\n",
      "Requirement already satisfied: typing_extensions>=4.6 in /Users/gerardnasseruncc/Library/Python/3.10/lib/python/site-packages (from ipython) (4.14.0)\n",
      "Requirement already satisfied: prompt_toolkit<3.1.0,>=3.0.41 in /Users/gerardnasseruncc/Library/Python/3.10/lib/python/site-packages (from ipython) (3.0.51)\n",
      "Requirement already satisfied: decorator in /Users/gerardnasseruncc/Library/Python/3.10/lib/python/site-packages (from ipython) (5.2.1)\n",
      "Requirement already satisfied: stack_data in /Users/gerardnasseruncc/Library/Python/3.10/lib/python/site-packages (from ipython) (0.6.3)\n",
      "Requirement already satisfied: pexpect>4.3 in /Users/gerardnasseruncc/Library/Python/3.10/lib/python/site-packages (from ipython) (4.9.0)\n",
      "Requirement already satisfied: traitlets>=5.13.0 in /Users/gerardnasseruncc/Library/Python/3.10/lib/python/site-packages (from ipython) (5.14.3)\n",
      "Requirement already satisfied: jedi>=0.16 in /Users/gerardnasseruncc/Library/Python/3.10/lib/python/site-packages (from ipython) (0.19.2)\n",
      "Requirement already satisfied: exceptiongroup in /Users/gerardnasseruncc/Library/Python/3.10/lib/python/site-packages (from ipython) (1.3.0)\n",
      "Requirement already satisfied: urllib3<3,>=1.21.1 in /Library/Frameworks/Python.framework/Versions/3.10/lib/python3.10/site-packages (from requests) (2.5.0)\n",
      "Requirement already satisfied: certifi>=2017.4.17 in /Library/Frameworks/Python.framework/Versions/3.10/lib/python3.10/site-packages (from requests) (2025.8.3)\n",
      "Requirement already satisfied: idna<4,>=2.5 in /Library/Frameworks/Python.framework/Versions/3.10/lib/python3.10/site-packages (from requests) (3.10)\n",
      "Requirement already satisfied: charset_normalizer<4,>=2 in /Library/Frameworks/Python.framework/Versions/3.10/lib/python3.10/site-packages (from requests) (3.4.3)\n",
      "Requirement already satisfied: parso<0.9.0,>=0.8.4 in /Users/gerardnasseruncc/Library/Python/3.10/lib/python/site-packages (from jedi>=0.16->ipython) (0.8.4)\n",
      "Requirement already satisfied: ptyprocess>=0.5 in /Users/gerardnasseruncc/Library/Python/3.10/lib/python/site-packages (from pexpect>4.3->ipython) (0.7.0)\n",
      "Requirement already satisfied: wcwidth in /Users/gerardnasseruncc/Library/Python/3.10/lib/python/site-packages (from prompt_toolkit<3.1.0,>=3.0.41->ipython) (0.2.13)\n",
      "Requirement already satisfied: pure-eval in /Users/gerardnasseruncc/Library/Python/3.10/lib/python/site-packages (from stack_data->ipython) (0.2.3)\n",
      "Requirement already satisfied: asttokens>=2.1.0 in /Users/gerardnasseruncc/Library/Python/3.10/lib/python/site-packages (from stack_data->ipython) (3.0.0)\n",
      "Requirement already satisfied: executing>=1.2.0 in /Users/gerardnasseruncc/Library/Python/3.10/lib/python/site-packages (from stack_data->ipython) (2.2.0)\n",
      "\u001b[33mWARNING: You are using pip version 22.0.4; however, version 25.2 is available.\n",
      "You should consider upgrading via the '/Library/Frameworks/Python.framework/Versions/3.10/bin/python3 -m pip install --upgrade pip' command.\u001b[0m\u001b[33m\n",
      "\u001b[0mNote: you may need to restart the kernel to use updated packages.\n"
     ]
    }
   ],
   "source": [
    "%pip install ipython python-dotenv requests"
   ]
  },
  {
   "cell_type": "code",
   "execution_count": 2,
   "metadata": {},
   "outputs": [],
   "source": [
    "from IPython.display import Image\n",
    "from dotenv import load_dotenv\n",
    "import urllib.parse\n",
    "import requests\n",
    "import json\n",
    "import csv\n",
    "import os"
   ]
  },
  {
   "cell_type": "markdown",
   "metadata": {},
   "source": [
    "## API Tutorial\n",
    "This document has two aims:\n",
    "\n",
    "- (1) To show you the process of registering and using an API application from Web of Science / Clarivate\n",
    "\n",
    "- (2) Utilize a script written by the author to efficiently retrieve results from multiple pages."
   ]
  },
  {
   "cell_type": "markdown",
   "metadata": {},
   "source": [
    "### Create an Account or Log In\n",
    "The first step is to register or log into https://developer.clarivate.com/ .\n",
    "\n",
    "![Step 1](./tutorial_screenshots/Screenshot%202025-09-03%20at%203.40.48 PM.png)"
   ]
  },
  {
   "cell_type": "markdown",
   "metadata": {},
   "source": [
    "### Register the Application Step 1\n",
    "After you will register for an API application. Please click \"Register\".\n",
    "\n",
    "![Step 2](./tutorial_screenshots/Screenshot%202025-09-03%20at%203.41.46 PM.png)"
   ]
  },
  {
   "cell_type": "markdown",
   "metadata": {},
   "source": [
    "### Register a New Application Step 2\n",
    "Then click on \"Register a new Application\" ...\n",
    "\n",
    "![Step 3](./tutorial_screenshots/Screenshot%202025-09-03%20at%203.43.05 PM.png)\n",
    "\n",
    "... and fill out the form.\n",
    "\n",
    "![Step 4](./tutorial_screenshots/Screenshot%202025-09-03%20at%203.43.45 PM.png)"
   ]
  },
  {
   "cell_type": "markdown",
   "metadata": {},
   "source": [
    "### Approval\n",
    "Once the registration is approved you can click on the Name link of your application as seen below.\n",
    "\n",
    "![Step 5](./tutorial_screenshots/Screenshot%202025-09-03%20at%203.44.04 PM.png)\n",
    "\n",
    "Then click on the name if the API.\n",
    "\n",
    "![Step 6](./tutorial_screenshots/Screenshot%202025-09-03%20at%203.44.37 PM.png)\n",
    "\n",
    "This will take you to a window where you can click the \"Try It\" button and you can then see the special UI for your registered application.\n",
    "\n",
    "![Step 7](./tutorial_screenshots/Screenshot%202025-09-03%20at%203.45.19 PM.png)\n",
    "\n",
    "The rest is play around and learn! This interface allows you to use the AP without code. It also shows you all teh advance search options and even allows you to perform a test search! This test search will tell you the curl command and show you the example output.\n",
    "\n",
    "However, it is not the most efficient way to use the API. Below is a notebook that will help you get more results faster. It is written in python and utilizes requests in place of curl. This helps keep it all in one language! Just remember to not exceed the limit of your subscription!"
   ]
  },
  {
   "cell_type": "markdown",
   "metadata": {},
   "source": [
    "### Script Step 1\n",
    "This is where you will place your information such as API key, Database, and search phrase. All the abriviations are seen and explained in your individual APU UI. Please refer there."
   ]
  },
  {
   "cell_type": "code",
   "execution_count": 3,
   "metadata": {},
   "outputs": [
    {
     "name": "stdout",
     "output_type": "stream",
     "text": [
      "None\n"
     ]
    }
   ],
   "source": [
    "# Load environment variables from .env file\n",
    "load_dotenv()\n",
    "# Use the environment variable, but fall back to a placeholder if it's not set.\n",
    "# Replace 'YOUR_API_KEY' with your actual key if you are not using a .env file.\n",
    "API_KEY = os.environ.get('API_KEY', 'YOUR_API_KEY')\n",
    "database_code = os.environ.get('database_code')\n",
    "page_limit = int(os.environ.get('page_limit', 50))\n",
    "page_max = int(os.environ.get('page_max', 5))\n",
    "sort_field = os.environ.get('sort_field')\n",
    "ascending = os.environ.get('ascending')\n",
    "base_url = os.environ.get('base_url')\n",
    "search_phrase = os.environ.get('search_phrase')\n",
    "\n",
    "print(search_phrase)"
   ]
  },
  {
   "cell_type": "code",
   "execution_count": 4,
   "metadata": {},
   "outputs": [],
   "source": [
    "# This is a definition used to outline a repeatable task.\n",
    "# This function creates an encoded query string for a search phrase.\n",
    "def create_encoded_query(phrase):\n",
    "    \"\"\"Encodes a string for use in a URL.\"\"\"\n",
    "    return urllib.parse.quote(phrase)\n"
   ]
  },
  {
   "cell_type": "markdown",
   "metadata": {},
   "source": [
    "### Script Step 2\n",
    "This step will build your url phrase that will be added to the base url. This creates the full request that will then be sent to the API."
   ]
  },
  {
   "cell_type": "code",
   "execution_count": 5,
   "metadata": {},
   "outputs": [],
   "source": [
    "# Adjust this line to adjust your search fields.\n",
    "search_phrase_with_tag = f'TS=({search_phrase})'\n",
    "\n",
    "params = {\n",
    "    'db': database_code,\n",
    "    'q': search_phrase_with_tag,\n",
    "    'limit': page_limit\n",
    "}\n",
    "\n",
    "if ascending == 'true':\n",
    "    params['sortField'] = f'{sort_field} A' # Note: API docs use a space not a + like in the UI.\n",
    "elif ascending == 'false':\n",
    "    params['sortField'] = f'{sort_field} D'\n",
    "else:\n",
    "    params['sortField'] = sort_field\n"
   ]
  },
  {
   "cell_type": "code",
   "execution_count": 6,
   "metadata": {},
   "outputs": [],
   "source": [
    "headers = {\n",
    "    'accept': 'application/json',\n",
    "    'X-ApiKey': API_KEY\n",
    "}\n",
    "\n",
    "all_results = []\n"
   ]
  },
  {
   "cell_type": "markdown",
   "metadata": {},
   "source": [
    "### Script Step 3\n",
    "This section does the actual search, retrieving results from pages 1-X, where X is the page limit you defined earlier."
   ]
  },
  {
   "cell_type": "code",
   "execution_count": 9,
   "metadata": {},
   "outputs": [
    {
     "name": "stdout",
     "output_type": "stream",
     "text": [
      "Error: 'base_url' is not set. Please check your .env file or environment variables.\n"
     ]
    }
   ],
   "source": [
    "if not base_url:\n",
    "    print(\"Error: 'base_url' is not set. Please check your .env file or environment variables.\")\n",
    "else:\n",
    "    for i in range(1, page_max + 1):\n",
    "      # Set the page for the current iteration\n",
    "      params['page'] = i\n",
    "      \n",
    "      print(f\"Requesting page {i}...\")\n",
    "      \n",
    "      # Make the API call\n",
    "      response = requests.get(base_url, headers=headers, params=params)\n",
    "      \n",
    "      # Check if the request was successful\n",
    "      if response.status_code == 200:\n",
    "          data = response.json()\n",
    "          # The list of documents is in the 'hits' key of the JSON response\n",
    "          page_hits = data.get('hits', [])\n",
    "          if page_hits:\n",
    "              # Add the results from this page to our master list\n",
    "              all_results.extend(page_hits)\n",
    "              print(f\"  ... Success! Added {len(page_hits)} results.\")\n",
    "          else:\n",
    "              # Stop if a page returns no results\n",
    "              print(\"  ... No more results found. Stopping.\")\n",
    "              break \n",
    "      else:\n",
    "          print(f\"  ... Error on page {i}: Status code {response.status_code}\")\n",
    "          print(f\"  ... Response: {response.text}\")\n",
    "          # Stop the loop if an error occurs\n",
    "          break"
   ]
  },
  {
   "cell_type": "markdown",
   "metadata": {},
   "source": [
    "### Script Step 4\n",
    "Finally, the list of JSONs is exported into a more human readable format, a csv. For down stream use."
   ]
  },
  {
   "cell_type": "code",
   "execution_count": 8,
   "metadata": {},
   "outputs": [
    {
     "name": "stdout",
     "output_type": "stream",
     "text": [
      "\n",
      "No results to save to CSV.\n"
     ]
    }
   ],
   "source": [
    "# Define the name of the output CSV file\n",
    "csv_file_name = 'wos_results.csv'\n",
    "\n",
    "# Check if we have any results to write\n",
    "if all_results:\n",
    "    # Open the file in write mode\n",
    "    with open(csv_file_name, 'w', newline='', encoding='utf-8') as csvfile:\n",
    "        # The 'all_results' list contains dictionaries. We can use the keys\n",
    "        # of the first dictionary as the headers for our CSV.\n",
    "        headers = all_results[0].keys()\n",
    "        \n",
    "        # Create a DictWriter object which maps dictionaries to CSV rows\n",
    "        writer = csv.DictWriter(csvfile, fieldnames=headers)\n",
    "        \n",
    "        # Write the header row\n",
    "        writer.writeheader()\n",
    "        \n",
    "        # Write all the dictionary rows from our results list\n",
    "        writer.writerows(all_results)\n",
    "        \n",
    "    print(f\"\\nSuccessfully saved {len(all_results)} results to {csv_file_name}\")\n",
    "else:\n",
    "    print(\"\\nNo results to save to CSV.\")"
   ]
  }
 ],
 "metadata": {
  "kernelspec": {
   "display_name": "Python 3",
   "language": "python",
   "name": "python3"
  },
  "language_info": {
   "codemirror_mode": {
    "name": "ipython",
    "version": 3
   },
   "file_extension": ".py",
   "mimetype": "text/x-python",
   "name": "python",
   "nbconvert_exporter": "python",
   "pygments_lexer": "ipython3",
   "version": "3.10.4"
  }
 },
 "nbformat": 4,
 "nbformat_minor": 2
}
