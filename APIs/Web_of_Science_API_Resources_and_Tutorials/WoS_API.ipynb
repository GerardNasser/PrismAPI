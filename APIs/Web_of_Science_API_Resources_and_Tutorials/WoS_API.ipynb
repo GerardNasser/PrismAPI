{
 "cells": [
  {
   "cell_type": "code",
   "execution_count": null,
   "metadata": {},
   "outputs": [],
   "source": [
    "# THESE ARE PLACE HOLDERS PLEASE MAKE SURE THE INFORMATION MATCHES YOUR SEARCH\n",
    "API_KEY = 'YOUR_API_KEY' # Replace with your actual key\n",
    "database_code = 'WOK'\n",
    "page_limit = 50\n",
    "page_max = 5\n",
    "sort_field = 'LD'\n",
    "ascending = 'true' # or 'false' or ''\n",
    "base_url = 'https://api.clarivate.com/apis/wos-starter/v1/documents'\n",
    "search_phrase = '\"climate change\" OR \"global warming\" AND sustainability'"
   ]
  },
  {
   "cell_type": "code",
   "execution_count": 13,
   "metadata": {},
   "outputs": [],
   "source": [
    "import urllib.parse\n",
    "import requests\n",
    "import json\n",
    "import csv"
   ]
  },
  {
   "cell_type": "code",
   "execution_count": 8,
   "metadata": {},
   "outputs": [],
   "source": [
    "def create_encoded_query(phrase):\n",
    "    \"\"\"Encodes a string for use in a URL.\"\"\"\n",
    "    return urllib.parse.quote(phrase)\n"
   ]
  },
  {
   "cell_type": "code",
   "execution_count": 9,
   "metadata": {},
   "outputs": [],
   "source": [
    "search_phrase_with_tag = f'TS=({search_phrase})'\n",
    "\n",
    "params = {\n",
    "    'db': database_code,\n",
    "    'q': search_phrase_with_tag,\n",
    "    'limit': page_limit\n",
    "}\n",
    "\n",
    "if ascending == 'true':\n",
    "    params['sortField'] = f'{sort_field} A' # Note: API docs use a space\n",
    "elif ascending == 'false':\n",
    "    params['sortField'] = f'{sort_field} D'\n",
    "else:\n",
    "    params['sortField'] = sort_field\n"
   ]
  },
  {
   "cell_type": "code",
   "execution_count": 10,
   "metadata": {},
   "outputs": [],
   "source": [
    "headers = {\n",
    "    'accept': 'application/json',\n",
    "    'X-ApiKey': API_KEY\n",
    "}\n",
    "\n",
    "all_results = []\n"
   ]
  },
  {
   "cell_type": "code",
   "execution_count": 11,
   "metadata": {},
   "outputs": [
    {
     "name": "stdout",
     "output_type": "stream",
     "text": [
      "Requesting page 1...\n",
      "  ... Success! Added 50 results.\n",
      "Requesting page 2...\n",
      "  ... Success! Added 50 results.\n",
      "Requesting page 3...\n",
      "  ... Success! Added 50 results.\n",
      "Requesting page 4...\n",
      "  ... Success! Added 50 results.\n",
      "Requesting page 5...\n",
      "  ... Success! Added 50 results.\n"
     ]
    }
   ],
   "source": [
    "for i in range(1, page_max + 1):\n",
    "  # Set the page for the current iteration\n",
    "  params['page'] = i\n",
    "  \n",
    "  print(f\"Requesting page {i}...\")\n",
    "  \n",
    "  # Make the API call\n",
    "  response = requests.get(base_url, headers=headers, params=params)\n",
    "  \n",
    "  # Check if the request was successful\n",
    "  if response.status_code == 200:\n",
    "      data = response.json()\n",
    "      # The list of documents is in the 'hits' key of the JSON response\n",
    "      page_hits = data.get('hits', [])\n",
    "      if page_hits:\n",
    "          # Add the results from this page to our master list\n",
    "          all_results.extend(page_hits)\n",
    "          print(f\"  ... Success! Added {len(page_hits)} results.\")\n",
    "      else:\n",
    "          # Stop if a page returns no results\n",
    "          print(\"  ... No more results found. Stopping.\")\n",
    "          break \n",
    "  else:\n",
    "      print(f\"  ... Error on page {i}: Status code {response.status_code}\")\n",
    "      print(f\"  ... Response: {response.text}\")\n",
    "      # Stop the loop if an error occurs\n",
    "      break"
   ]
  },
  {
   "cell_type": "code",
   "execution_count": 14,
   "metadata": {},
   "outputs": [
    {
     "name": "stdout",
     "output_type": "stream",
     "text": [
      "\n",
      "Successfully saved 250 results to wos_results.csv\n"
     ]
    }
   ],
   "source": [
    "# Define the name of the output CSV file\n",
    "csv_file_name = 'wos_results.csv'\n",
    "\n",
    "# Check if we have any results to write\n",
    "if all_results:\n",
    "    # Open the file in write mode\n",
    "    with open(csv_file_name, 'w', newline='', encoding='utf-8') as csvfile:\n",
    "        # The 'all_results' list contains dictionaries. We can use the keys\n",
    "        # of the first dictionary as the headers for our CSV.\n",
    "        headers = all_results[0].keys()\n",
    "        \n",
    "        # Create a DictWriter object which maps dictionaries to CSV rows\n",
    "        writer = csv.DictWriter(csvfile, fieldnames=headers)\n",
    "        \n",
    "        # Write the header row\n",
    "        writer.writeheader()\n",
    "        \n",
    "        # Write all the dictionary rows from our results list\n",
    "        writer.writerows(all_results)\n",
    "        \n",
    "    print(f\"\\nSuccessfully saved {len(all_results)} results to {csv_file_name}\")\n",
    "else:\n",
    "    print(\"\\nNo results to save to CSV.\")"
   ]
  }
 ],
 "metadata": {
  "kernelspec": {
   "display_name": "Python 3",
   "language": "python",
   "name": "python3"
  },
  "language_info": {
   "codemirror_mode": {
    "name": "ipython",
    "version": 3
   },
   "file_extension": ".py",
   "mimetype": "text/x-python",
   "name": "python",
   "nbconvert_exporter": "python",
   "pygments_lexer": "ipython3",
   "version": "3.10.4"
  }
 },
 "nbformat": 4,
 "nbformat_minor": 2
}
