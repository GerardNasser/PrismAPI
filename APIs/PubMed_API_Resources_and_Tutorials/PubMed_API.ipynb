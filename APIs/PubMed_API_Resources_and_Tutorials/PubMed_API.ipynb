{
 "cells": [
  {
   "cell_type": "code",
   "execution_count": 5,
   "id": "61b96e68",
   "metadata": {},
   "outputs": [
    {
     "name": "stdout",
     "output_type": "stream",
     "text": [
      "Requirement already satisfied: biopython in ./.venv/lib/python3.13/site-packages (1.85)\n",
      "Requirement already satisfied: dotenv in ./.venv/lib/python3.13/site-packages (0.9.9)\n",
      "Requirement already satisfied: numpy in ./.venv/lib/python3.13/site-packages (from biopython) (2.3.3)\n",
      "Requirement already satisfied: python-dotenv in ./.venv/lib/python3.13/site-packages (from dotenv) (1.1.1)\n"
     ]
    }
   ],
   "source": [
    "# Install and Import Packages.\n",
    "import sys\n",
    "!{sys.executable} -m pip install --upgrade biopython dotenv\n",
    "from Bio import Entrez as ez\n",
    "import pandas as pd\n",
    "from dotenv import load_dotenv\n",
    "import os\n",
    "from time import sleep"
   ]
  },
  {
   "cell_type": "code",
   "execution_count": 6,
   "id": "8e720181",
   "metadata": {},
   "outputs": [
    {
     "name": "stdout",
     "output_type": "stream",
     "text": [
      "BiopythonDeprecationWarning: Biopython deprecation warning.\n",
      "HTTPError: Raised when HTTP error occurs, but also acts like non-error return\n",
      "Request: No description available.\n",
      "URLError: No description available.\n",
      "ecitmatch: Retrieve PMIDs for input citation strings, returned as a handle.\n",
      "efetch: Fetch Entrez results which are returned as a handle.\n",
      "egquery: Provide Entrez database counts for a global search (DEPRECATED).\n",
      "einfo: Return a summary of the Entrez databases as a results handle.\n",
      "elink: Check for linked external articles and return a handle.\n",
      "epost: Post a file of identifiers for future use.\n",
      "esearch: Run an Entrez search and return a handle to the results.\n",
      "espell: Retrieve spelling suggestions as a results handle.\n",
      "esummary: Retrieve document summaries as a results handle.\n",
      "function_with_previous: Decorate a function as having an attribute named 'previous'.\n",
      "parse: Parse an XML file from the NCBI Entrez Utilities into python objects.\n",
      "read: Parse an XML file from the NCBI Entrez Utilities into python objects.\n",
      "urlencode: Encode a dict or sequence of two-element tuples into a URL query string.\n",
      "urlopen: Open the URL url, which can be either a string or a Request object.\n"
     ]
    }
   ],
   "source": [
    "\n",
    "ez_functions = [func for func in dir(ez) if callable(getattr(ez, func)) and not func.startswith('_')]\n",
    "\n",
    "# Loop through each function name in your list\n",
    "for func_name in ez_functions:\n",
    "    # Get the actual function object from the 'ez' module\n",
    "    function_object = getattr(ez, func_name)\n",
    "    \n",
    "    # Get the docstring, handle cases where it might be empty\n",
    "    docstring = function_object.__doc__\n",
    "    if docstring:\n",
    "        # Split the docstring into lines and take the first non-empty one\n",
    "        first_line = docstring.strip().split('\\n')[0]\n",
    "        print(f\"{func_name}: {first_line}\")\n",
    "    else:\n",
    "        print(f\"{func_name}: No description available.\")"
   ]
  },
  {
   "cell_type": "code",
   "execution_count": 7,
   "id": "98247a19",
   "metadata": {},
   "outputs": [
    {
     "name": "stdout",
     "output_type": "stream",
     "text": [
      "climate+change\n"
     ]
    }
   ],
   "source": [
    "# Load environment variables from .env file\n",
    "load_dotenv()\n",
    "\n",
    "ez.email = os.environ.get('EMAIL')\n",
    "ez.api_key = os.environ.get('API_KEY')\n",
    "SEARCH_QUERY = os.environ.get('SEARCH_QUERY')\n",
    "DATABASE = os.environ.get('DATABASE')\n",
    "RETTYPE = os.environ.get('RETTYPE')\n",
    "RETMODE = os.environ.get('RETMODE')\n",
    "\n",
    "print(SEARCH_QUERY)\n"
   ]
  },
  {
   "cell_type": "code",
   "execution_count": 12,
   "id": "9d15cf84",
   "metadata": {},
   "outputs": [
    {
     "name": "stdout",
     "output_type": "stream",
     "text": [
      "Testing with a simple, hard-coded search term...\n",
      "❌ FAILURE: The search failed even with a simple term. Error: HTTP Error 400: Bad Request\n",
      "\n",
      "--- For debugging, here is the value of your SEARCH_QUERY variable: ---\n",
      "'climate+change'\n"
     ]
    }
   ],
   "source": [
    "# --- Test with a hard-coded, guaranteed-valid search term ---\n",
    "print(\"Testing with a simple, hard-coded search term...\")\n",
    "\n",
    "try:\n",
    "    # A simple, valid PubMed query\n",
    "    simple_term = \"BRCA1 AND human[organism]\"\n",
    "    handle = ez.esearch(db=\"pubmed\",\n",
    "                        term=simple_term,\n",
    "                        usehistory=\"y\")\n",
    "    search_results = ez.read(handle)\n",
    "    handle.close()\n",
    "    print(\"✅ SUCCESS: The search with the simple term worked!\")\n",
    "    print(f\"Found {search_results['Count']} results.\")\n",
    "\n",
    "except Exception as e:\n",
    "    print(f\"❌ FAILURE: The search failed even with a simple term. Error: {e}\")\n",
    "\n",
    "\n",
    "# --- Now, print your actual search query for inspection ---\n",
    "# This line assumes SEARCH_QUERY was loaded in your setup cell.\n",
    "print(\"\\n--- For debugging, here is the value of your SEARCH_QUERY variable: ---\")\n",
    "print(f\"'{SEARCH_QUERY}'\")"
   ]
  },
  {
   "cell_type": "code",
   "execution_count": 9,
   "id": "9e3281e8",
   "metadata": {},
   "outputs": [
    {
     "name": "stdout",
     "output_type": "stream",
     "text": [
      "climate+change\n",
      "Running esearch...\n"
     ]
    },
    {
     "ename": "HTTPError",
     "evalue": "HTTP Error 400: Bad Request",
     "output_type": "error",
     "traceback": [
      "\u001b[31m---------------------------------------------------------------------------\u001b[39m",
      "\u001b[31mHTTPError\u001b[39m                                 Traceback (most recent call last)",
      "\u001b[36mCell\u001b[39m\u001b[36m \u001b[39m\u001b[32mIn[9]\u001b[39m\u001b[32m, line 4\u001b[39m\n\u001b[32m      1\u001b[39m \u001b[38;5;28mprint\u001b[39m(SEARCH_QUERY)\n\u001b[32m      3\u001b[39m \u001b[38;5;28mprint\u001b[39m(\u001b[33m\"\u001b[39m\u001b[33mRunning esearch...\u001b[39m\u001b[33m\"\u001b[39m)\n\u001b[32m----> \u001b[39m\u001b[32m4\u001b[39m handle = \u001b[43mez\u001b[49m\u001b[43m.\u001b[49m\u001b[43mesearch\u001b[49m\u001b[43m(\u001b[49m\u001b[43mdb\u001b[49m\u001b[43m=\u001b[49m\u001b[43mDATABASE\u001b[49m\u001b[43m,\u001b[49m\n\u001b[32m      5\u001b[39m \u001b[43m                        \u001b[49m\u001b[43mterm\u001b[49m\u001b[43m=\u001b[49m\u001b[43mSEARCH_QUERY\u001b[49m\u001b[43m,\u001b[49m\n\u001b[32m      6\u001b[39m \u001b[43m                        \u001b[49m\u001b[43musehistory\u001b[49m\u001b[43m=\u001b[49m\u001b[33;43m\"\u001b[39;49m\u001b[33;43my\u001b[39;49m\u001b[33;43m\"\u001b[39;49m\u001b[43m)\u001b[49m \u001b[38;5;66;03m# IMPORTANT: Use the history server\u001b[39;00m\n\u001b[32m      8\u001b[39m search_results = ez.read(handle)\n\u001b[32m      9\u001b[39m handle.close()\n",
      "\u001b[36mFile \u001b[39m\u001b[32m~/Desktop/All/Github/Project_Repositories/Prisma_Compliance_Resource/APIs/PubMed_API_Resources_and_Tutorials/.venv/lib/python3.13/site-packages/Bio/Entrez/__init__.py:239\u001b[39m, in \u001b[36mesearch\u001b[39m\u001b[34m(db, term, **keywds)\u001b[39m\n\u001b[32m    237\u001b[39m variables.update(keywds)\n\u001b[32m    238\u001b[39m request = _build_request(cgi, variables)\n\u001b[32m--> \u001b[39m\u001b[32m239\u001b[39m \u001b[38;5;28;01mreturn\u001b[39;00m \u001b[43m_open\u001b[49m\u001b[43m(\u001b[49m\u001b[43mrequest\u001b[49m\u001b[43m)\u001b[49m\n",
      "\u001b[36mFile \u001b[39m\u001b[32m~/Desktop/All/Github/Project_Repositories/Prisma_Compliance_Resource/APIs/PubMed_API_Resources_and_Tutorials/.venv/lib/python3.13/site-packages/Bio/Entrez/__init__.py:634\u001b[39m, in \u001b[36m_open\u001b[39m\u001b[34m(request)\u001b[39m\n\u001b[32m    632\u001b[39m \u001b[38;5;28;01mfor\u001b[39;00m i \u001b[38;5;129;01min\u001b[39;00m \u001b[38;5;28mrange\u001b[39m(max_tries):\n\u001b[32m    633\u001b[39m     \u001b[38;5;28;01mtry\u001b[39;00m:\n\u001b[32m--> \u001b[39m\u001b[32m634\u001b[39m         handle = \u001b[43murlopen\u001b[49m\u001b[43m(\u001b[49m\u001b[43mrequest\u001b[49m\u001b[43m)\u001b[49m\n\u001b[32m    635\u001b[39m     \u001b[38;5;28;01mexcept\u001b[39;00m HTTPError \u001b[38;5;28;01mas\u001b[39;00m exception:\n\u001b[32m    636\u001b[39m         \u001b[38;5;66;03m# Reraise if the final try fails\u001b[39;00m\n\u001b[32m    637\u001b[39m         \u001b[38;5;28;01mif\u001b[39;00m i >= max_tries - \u001b[32m1\u001b[39m:\n",
      "\u001b[36mFile \u001b[39m\u001b[32m/Library/Frameworks/Python.framework/Versions/3.13/lib/python3.13/urllib/request.py:189\u001b[39m, in \u001b[36murlopen\u001b[39m\u001b[34m(url, data, timeout, context)\u001b[39m\n\u001b[32m    187\u001b[39m \u001b[38;5;28;01melse\u001b[39;00m:\n\u001b[32m    188\u001b[39m     opener = _opener\n\u001b[32m--> \u001b[39m\u001b[32m189\u001b[39m \u001b[38;5;28;01mreturn\u001b[39;00m \u001b[43mopener\u001b[49m\u001b[43m.\u001b[49m\u001b[43mopen\u001b[49m\u001b[43m(\u001b[49m\u001b[43murl\u001b[49m\u001b[43m,\u001b[49m\u001b[43m \u001b[49m\u001b[43mdata\u001b[49m\u001b[43m,\u001b[49m\u001b[43m \u001b[49m\u001b[43mtimeout\u001b[49m\u001b[43m)\u001b[49m\n",
      "\u001b[36mFile \u001b[39m\u001b[32m/Library/Frameworks/Python.framework/Versions/3.13/lib/python3.13/urllib/request.py:495\u001b[39m, in \u001b[36mOpenerDirector.open\u001b[39m\u001b[34m(self, fullurl, data, timeout)\u001b[39m\n\u001b[32m    493\u001b[39m \u001b[38;5;28;01mfor\u001b[39;00m processor \u001b[38;5;129;01min\u001b[39;00m \u001b[38;5;28mself\u001b[39m.process_response.get(protocol, []):\n\u001b[32m    494\u001b[39m     meth = \u001b[38;5;28mgetattr\u001b[39m(processor, meth_name)\n\u001b[32m--> \u001b[39m\u001b[32m495\u001b[39m     response = \u001b[43mmeth\u001b[49m\u001b[43m(\u001b[49m\u001b[43mreq\u001b[49m\u001b[43m,\u001b[49m\u001b[43m \u001b[49m\u001b[43mresponse\u001b[49m\u001b[43m)\u001b[49m\n\u001b[32m    497\u001b[39m \u001b[38;5;28;01mreturn\u001b[39;00m response\n",
      "\u001b[36mFile \u001b[39m\u001b[32m/Library/Frameworks/Python.framework/Versions/3.13/lib/python3.13/urllib/request.py:604\u001b[39m, in \u001b[36mHTTPErrorProcessor.http_response\u001b[39m\u001b[34m(self, request, response)\u001b[39m\n\u001b[32m    601\u001b[39m \u001b[38;5;66;03m# According to RFC 2616, \"2xx\" code indicates that the client's\u001b[39;00m\n\u001b[32m    602\u001b[39m \u001b[38;5;66;03m# request was successfully received, understood, and accepted.\u001b[39;00m\n\u001b[32m    603\u001b[39m \u001b[38;5;28;01mif\u001b[39;00m \u001b[38;5;129;01mnot\u001b[39;00m (\u001b[32m200\u001b[39m <= code < \u001b[32m300\u001b[39m):\n\u001b[32m--> \u001b[39m\u001b[32m604\u001b[39m     response = \u001b[38;5;28;43mself\u001b[39;49m\u001b[43m.\u001b[49m\u001b[43mparent\u001b[49m\u001b[43m.\u001b[49m\u001b[43merror\u001b[49m\u001b[43m(\u001b[49m\n\u001b[32m    605\u001b[39m \u001b[43m        \u001b[49m\u001b[33;43m'\u001b[39;49m\u001b[33;43mhttp\u001b[39;49m\u001b[33;43m'\u001b[39;49m\u001b[43m,\u001b[49m\u001b[43m \u001b[49m\u001b[43mrequest\u001b[49m\u001b[43m,\u001b[49m\u001b[43m \u001b[49m\u001b[43mresponse\u001b[49m\u001b[43m,\u001b[49m\u001b[43m \u001b[49m\u001b[43mcode\u001b[49m\u001b[43m,\u001b[49m\u001b[43m \u001b[49m\u001b[43mmsg\u001b[49m\u001b[43m,\u001b[49m\u001b[43m \u001b[49m\u001b[43mhdrs\u001b[49m\u001b[43m)\u001b[49m\n\u001b[32m    607\u001b[39m \u001b[38;5;28;01mreturn\u001b[39;00m response\n",
      "\u001b[36mFile \u001b[39m\u001b[32m/Library/Frameworks/Python.framework/Versions/3.13/lib/python3.13/urllib/request.py:533\u001b[39m, in \u001b[36mOpenerDirector.error\u001b[39m\u001b[34m(self, proto, *args)\u001b[39m\n\u001b[32m    531\u001b[39m \u001b[38;5;28;01mif\u001b[39;00m http_err:\n\u001b[32m    532\u001b[39m     args = (\u001b[38;5;28mdict\u001b[39m, \u001b[33m'\u001b[39m\u001b[33mdefault\u001b[39m\u001b[33m'\u001b[39m, \u001b[33m'\u001b[39m\u001b[33mhttp_error_default\u001b[39m\u001b[33m'\u001b[39m) + orig_args\n\u001b[32m--> \u001b[39m\u001b[32m533\u001b[39m     \u001b[38;5;28;01mreturn\u001b[39;00m \u001b[38;5;28;43mself\u001b[39;49m\u001b[43m.\u001b[49m\u001b[43m_call_chain\u001b[49m\u001b[43m(\u001b[49m\u001b[43m*\u001b[49m\u001b[43margs\u001b[49m\u001b[43m)\u001b[49m\n",
      "\u001b[36mFile \u001b[39m\u001b[32m/Library/Frameworks/Python.framework/Versions/3.13/lib/python3.13/urllib/request.py:466\u001b[39m, in \u001b[36mOpenerDirector._call_chain\u001b[39m\u001b[34m(self, chain, kind, meth_name, *args)\u001b[39m\n\u001b[32m    464\u001b[39m \u001b[38;5;28;01mfor\u001b[39;00m handler \u001b[38;5;129;01min\u001b[39;00m handlers:\n\u001b[32m    465\u001b[39m     func = \u001b[38;5;28mgetattr\u001b[39m(handler, meth_name)\n\u001b[32m--> \u001b[39m\u001b[32m466\u001b[39m     result = \u001b[43mfunc\u001b[49m\u001b[43m(\u001b[49m\u001b[43m*\u001b[49m\u001b[43margs\u001b[49m\u001b[43m)\u001b[49m\n\u001b[32m    467\u001b[39m     \u001b[38;5;28;01mif\u001b[39;00m result \u001b[38;5;129;01mis\u001b[39;00m \u001b[38;5;129;01mnot\u001b[39;00m \u001b[38;5;28;01mNone\u001b[39;00m:\n\u001b[32m    468\u001b[39m         \u001b[38;5;28;01mreturn\u001b[39;00m result\n",
      "\u001b[36mFile \u001b[39m\u001b[32m/Library/Frameworks/Python.framework/Versions/3.13/lib/python3.13/urllib/request.py:613\u001b[39m, in \u001b[36mHTTPDefaultErrorHandler.http_error_default\u001b[39m\u001b[34m(self, req, fp, code, msg, hdrs)\u001b[39m\n\u001b[32m    612\u001b[39m \u001b[38;5;28;01mdef\u001b[39;00m\u001b[38;5;250m \u001b[39m\u001b[34mhttp_error_default\u001b[39m(\u001b[38;5;28mself\u001b[39m, req, fp, code, msg, hdrs):\n\u001b[32m--> \u001b[39m\u001b[32m613\u001b[39m     \u001b[38;5;28;01mraise\u001b[39;00m HTTPError(req.full_url, code, msg, hdrs, fp)\n",
      "\u001b[31mHTTPError\u001b[39m: HTTP Error 400: Bad Request"
     ]
    }
   ],
   "source": [
    "\n",
    "print(SEARCH_QUERY)\n",
    "\n",
    "print(\"Running esearch...\")\n",
    "handle = ez.esearch(db=DATABASE,\n",
    "                        term=SEARCH_QUERY,\n",
    "                        usehistory=\"y\") # IMPORTANT: Use the history server\n",
    "\n",
    "search_results = ez.read(handle)\n",
    "handle.close()\n",
    "\n",
    "# Get the total count and the history server identifiers\n",
    "count = int(search_results[\"Count\"])\n",
    "webenv = search_results[\"WebEnv\"]\n",
    "query_key = search_results[\"QueryKey\"]\n",
    "\n",
    "print(f\"Found {count} results.\")"
   ]
  },
  {
   "cell_type": "code",
   "execution_count": null,
   "id": "6e8dfafb",
   "metadata": {},
   "outputs": [],
   "source": [
    "batch_size = 100\n",
    "all_records = []\n",
    "\n",
    "print(\"Fetching records in batches...\")\n",
    "for start in range(0, count, batch_size):\n",
    "    end = min(count, start + batch_size)\n",
    "    print(f\"Fetching records from {start+1} to {end}\")\n",
    "    \n",
    "    fetch_handle = ez.efetch(db = DATABASE,\n",
    "                                 rettype = RETTYPE, # Request XML format for full data\n",
    "                                 retmode= RETMODE,\n",
    "                                 retstart=start,\n",
    "                                 retmax=batch_size,\n",
    "                                 webenv=webenv, # Use the history server identifiers\n",
    "                                 query_key=query_key)\n",
    "    \n",
    "    # Biopython's ez.read can parse the XML into a structured Python object\n",
    "    records = ez.read(fetch_handle)\n",
    "    fetch_handle.close()\n",
    "    \n",
    "    # The actual articles are in the 'PubmedArticle' list\n",
    "    all_records.extend(records['PubmedArticle'])\n",
    "    \n",
    "    # Be nice to the server! A short delay between requests.\n",
    "    sleep(0.3)\n",
    "\n",
    "print(\"Finished fetching all records.\")"
   ]
  },
  {
   "cell_type": "code",
   "execution_count": null,
   "id": "68b17327",
   "metadata": {},
   "outputs": [],
   "source": [
    "parsed_articles = []\n",
    "for article in all_records:\n",
    "    citation = article['MedlineCitation']\n",
    "\n",
    "    # Use .get() to avoid errors if a key is missing\n",
    "    title = citation['Article'].get('ArticleTitle', 'No Title Found')\n",
    "\n",
    "    abstract_parts = citation['Article'].get('Abstract', {}).get('AbstractText', [])\n",
    "    abstract = ' '.join(abstract_parts) if abstract_parts else 'No Abstract Found'\n",
    "\n",
    "    journal_info = citation['Article'].get('Journal', {})\n",
    "    journal_name = journal_info.get('Title', 'No Journal Found')\n",
    "    \n",
    "    pub_date = journal_info.get('JournalIssue', {}).get('PubDate', {})\n",
    "    year = pub_date.get('Year', pub_date.get('MedlineDate', 'No Year Found'))\n",
    "\n",
    "    pmid = citation.get('PMID', '')\n",
    "\n",
    "    parsed_articles.append({\n",
    "        'PMID': str(pmid),\n",
    "        'Title': title,\n",
    "        'Abstract': abstract,\n",
    "        'Journal': journal_name,\n",
    "        'Year': year\n",
    "    })\n",
    "\n",
    "df = pd.DataFrame(parsed_articles)\n",
    "df.to_csv(\"systematic_review_results.csv\", index=False)\n",
    "\n",
    "print(\"\\nSuccessfully parsed and saved results to systematic_review_results.csv\")\n",
    "print(df.head()) # Display the first few rows"
   ]
  }
 ],
 "metadata": {
  "kernelspec": {
   "display_name": ".venv",
   "language": "python",
   "name": "python3"
  },
  "language_info": {
   "codemirror_mode": {
    "name": "ipython",
    "version": 3
   },
   "file_extension": ".py",
   "mimetype": "text/x-python",
   "name": "python",
   "nbconvert_exporter": "python",
   "pygments_lexer": "ipython3",
   "version": "3.13.7"
  }
 },
 "nbformat": 4,
 "nbformat_minor": 5
}
