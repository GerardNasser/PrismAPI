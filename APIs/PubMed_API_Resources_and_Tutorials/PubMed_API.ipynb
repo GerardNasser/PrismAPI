{
 "cells": [
  {
   "cell_type": "code",
   "execution_count": 12,
   "id": "61b96e68",
   "metadata": {},
   "outputs": [
    {
     "name": "stdout",
     "output_type": "stream",
     "text": [
      "Requirement already satisfied: biopython in /Library/Frameworks/Python.framework/Versions/3.13/lib/python3.13/site-packages (1.85)\n",
      "Requirement already satisfied: numpy in /Library/Frameworks/Python.framework/Versions/3.13/lib/python3.13/site-packages (from biopython) (2.3.2)\n"
     ]
    }
   ],
   "source": [
    "# Install and Import Packages.\n",
    "import sys\n",
    "!{sys.executable} -m pip install biopython\n",
    "from Bio import Entrez as ez\n",
    "import pandas as pd\n",
    "from dotenv import load_dotenv\n",
    "import os\n",
    "from time import sleep"
   ]
  },
  {
   "cell_type": "code",
   "execution_count": 13,
   "id": "8e720181",
   "metadata": {},
   "outputs": [
    {
     "name": "stdout",
     "output_type": "stream",
     "text": [
      "BiopythonDeprecationWarning: Biopython deprecation warning.\n",
      "HTTPError: Raised when HTTP error occurs, but also acts like non-error return\n",
      "Request: No description available.\n",
      "URLError: No description available.\n",
      "ecitmatch: Retrieve PMIDs for input citation strings, returned as a handle.\n",
      "efetch: Fetch Entrez results which are returned as a handle.\n",
      "egquery: Provide Entrez database counts for a global search (DEPRECATED).\n",
      "einfo: Return a summary of the Entrez databases as a results handle.\n",
      "elink: Check for linked external articles and return a handle.\n",
      "epost: Post a file of identifiers for future use.\n",
      "esearch: Run an Entrez search and return a handle to the results.\n",
      "espell: Retrieve spelling suggestions as a results handle.\n",
      "esummary: Retrieve document summaries as a results handle.\n",
      "function_with_previous: Decorate a function as having an attribute named 'previous'.\n",
      "parse: Parse an XML file from the NCBI Entrez Utilities into python objects.\n",
      "read: Parse an XML file from the NCBI Entrez Utilities into python objects.\n",
      "urlencode: Encode a dict or sequence of two-element tuples into a URL query string.\n",
      "urlopen: Open the URL url, which can be either a string or a Request object.\n"
     ]
    }
   ],
   "source": [
    "\n",
    "ez_functions = [func for func in dir(ez) if callable(getattr(ez, func)) and not func.startswith('_')]\n",
    "\n",
    "# Loop through each function name in your list\n",
    "for func_name in ez_functions:\n",
    "    # Get the actual function object from the 'ez' module\n",
    "    function_object = getattr(ez, func_name)\n",
    "    \n",
    "    # Get the docstring, handle cases where it might be empty\n",
    "    docstring = function_object.__doc__\n",
    "    if docstring:\n",
    "        # Split the docstring into lines and take the first non-empty one\n",
    "        first_line = docstring.strip().split('\\n')[0]\n",
    "        print(f\"{func_name}: {first_line}\")\n",
    "    else:\n",
    "        print(f\"{func_name}: No description available.\")"
   ]
  },
  {
   "cell_type": "code",
   "execution_count": 6,
   "id": "98247a19",
   "metadata": {},
   "outputs": [],
   "source": [
    "# Load environment variables from .env file\n",
    "load_dotenv()\n",
    "\n",
    "ez.email = os.environ.get('EMAIL')\n",
    "ez.api_key = os.environ.get('API_KEY')\n",
    "SEARCH_QUERY = os.environ.get('SEARCH_QUERY')\n",
    "DATABASE = os.environ.get('DATABASE')\n",
    "RETTYPE = os.environ.get('RETTYPE')\n",
    "RETMODE = os.environ.get('RETMODE')\n"
   ]
  },
  {
   "cell_type": "code",
   "execution_count": null,
   "id": "9e3281e8",
   "metadata": {},
   "outputs": [],
   "source": [
    "\n",
    "search_query = SEARCH_QUERY\n",
    "\n",
    "print(\"Running esearch...\")\n",
    "handle = ez.esearch(db=DATABASE,\n",
    "                        term=search_query,\n",
    "                        usehistory=\"y\") # IMPORTANT: Use the history server\n",
    "\n",
    "search_results = ez.read(handle)\n",
    "handle.close()\n",
    "\n",
    "# Get the total count and the history server identifiers\n",
    "count = int(search_results[\"Count\"])\n",
    "webenv = search_results[\"WebEnv\"]\n",
    "query_key = search_results[\"QueryKey\"]\n",
    "\n",
    "print(f\"Found {count} results.\")"
   ]
  },
  {
   "cell_type": "code",
   "execution_count": null,
   "id": "6e8dfafb",
   "metadata": {},
   "outputs": [],
   "source": [
    "batch_size = 100\n",
    "all_records = []\n",
    "\n",
    "print(\"Fetching records in batches...\")\n",
    "for start in range(0, count, batch_size):\n",
    "    end = min(count, start + batch_size)\n",
    "    print(f\"Fetching records from {start+1} to {end}\")\n",
    "    \n",
    "    fetch_handle = ez.efetch(db = DATABASE,\n",
    "                                 rettype = RETTYPE, # Request XML format for full data\n",
    "                                 retmode= RETMODE,\n",
    "                                 retstart=start,\n",
    "                                 retmax=batch_size,\n",
    "                                 webenv=webenv, # Use the history server identifiers\n",
    "                                 query_key=query_key)\n",
    "    \n",
    "    # Biopython's ez.read can parse the XML into a structured Python object\n",
    "    records = ez.read(fetch_handle)\n",
    "    fetch_handle.close()\n",
    "    \n",
    "    # The actual articles are in the 'PubmedArticle' list\n",
    "    all_records.extend(records['PubmedArticle'])\n",
    "    \n",
    "    # Be nice to the server! A short delay between requests.\n",
    "    sleep(0.3)\n",
    "\n",
    "print(\"Finished fetching all records.\")"
   ]
  },
  {
   "cell_type": "code",
   "execution_count": null,
   "id": "68b17327",
   "metadata": {},
   "outputs": [],
   "source": [
    "parsed_articles = []\n",
    "for article in all_records:\n",
    "    citation = article['MedlineCitation']\n",
    "\n",
    "    # Use .get() to avoid errors if a key is missing\n",
    "    title = citation['Article'].get('ArticleTitle', 'No Title Found')\n",
    "\n",
    "    abstract_parts = citation['Article'].get('Abstract', {}).get('AbstractText', [])\n",
    "    abstract = ' '.join(abstract_parts) if abstract_parts else 'No Abstract Found'\n",
    "\n",
    "    journal_info = citation['Article'].get('Journal', {})\n",
    "    journal_name = journal_info.get('Title', 'No Journal Found')\n",
    "    \n",
    "    pub_date = journal_info.get('JournalIssue', {}).get('PubDate', {})\n",
    "    year = pub_date.get('Year', pub_date.get('MedlineDate', 'No Year Found'))\n",
    "\n",
    "    pmid = citation.get('PMID', '')\n",
    "\n",
    "    parsed_articles.append({\n",
    "        'PMID': str(pmid),\n",
    "        'Title': title,\n",
    "        'Abstract': abstract,\n",
    "        'Journal': journal_name,\n",
    "        'Year': year\n",
    "    })\n",
    "\n",
    "df = pd.DataFrame(parsed_articles)\n",
    "df.to_csv(\"systematic_review_results.csv\", index=False)\n",
    "\n",
    "print(\"\\nSuccessfully parsed and saved results to systematic_review_results.csv\")\n",
    "print(df.head()) # Display the first few rows"
   ]
  }
 ],
 "metadata": {
  "kernelspec": {
   "display_name": "Python 3",
   "language": "python",
   "name": "python3"
  },
  "language_info": {
   "codemirror_mode": {
    "name": "ipython",
    "version": 3
   },
   "file_extension": ".py",
   "mimetype": "text/x-python",
   "name": "python",
   "nbconvert_exporter": "python",
   "pygments_lexer": "ipython3",
   "version": "3.13.7"
  }
 },
 "nbformat": 4,
 "nbformat_minor": 5
}
