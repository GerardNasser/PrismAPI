{
 "cells": [
  {
   "cell_type": "code",
   "execution_count": 1,
   "id": "61b96e68",
   "metadata": {},
   "outputs": [],
   "source": [
    "# Install and Import Packages.\n",
    "import sys\n",
    "from Bio import Entrez as ez\n",
    "import pandas as pd\n",
    "from dotenv import load_dotenv\n",
    "import os\n",
    "from time import sleep"
   ]
  },
  {
   "cell_type": "code",
   "execution_count": 2,
   "id": "8e720181",
   "metadata": {},
   "outputs": [
    {
     "name": "stdout",
     "output_type": "stream",
     "text": [
      "BiopythonDeprecationWarning: Biopython deprecation warning.\n",
      "HTTPError: Raised when HTTP error occurs, but also acts like non-error return\n",
      "Request: No description available.\n",
      "URLError: No description available.\n",
      "ecitmatch: Retrieve PMIDs for input citation strings, returned as a handle.\n",
      "efetch: Fetch Entrez results which are returned as a handle.\n",
      "egquery: Provide Entrez database counts for a global search (DEPRECATED).\n",
      "einfo: Return a summary of the Entrez databases as a results handle.\n",
      "elink: Check for linked external articles and return a handle.\n",
      "epost: Post a file of identifiers for future use.\n",
      "esearch: Run an Entrez search and return a handle to the results.\n",
      "espell: Retrieve spelling suggestions as a results handle.\n",
      "esummary: Retrieve document summaries as a results handle.\n",
      "function_with_previous: Decorate a function as having an attribute named 'previous'.\n",
      "parse: Parse an XML file from the NCBI Entrez Utilities into python objects.\n",
      "read: Parse an XML file from the NCBI Entrez Utilities into python objects.\n",
      "urlencode: Encode a dict or sequence of two-element tuples into a URL query string.\n",
      "urlopen: Open the URL url, which can be either a string or a Request object.\n"
     ]
    }
   ],
   "source": [
    "\n",
    "ez_functions = [func for func in dir(ez) if callable(getattr(ez, func)) and not func.startswith('_')]\n",
    "\n",
    "# Loop through each function name in your list\n",
    "for func_name in ez_functions:\n",
    "    # Get the actual function object from the 'ez' module\n",
    "    function_object = getattr(ez, func_name)\n",
    "    \n",
    "    # Get the docstring, handle cases where it might be empty\n",
    "    docstring = function_object.__doc__\n",
    "    if docstring:\n",
    "        # Split the docstring into lines and take the first non-empty one\n",
    "        first_line = docstring.strip().split('\\n')[0]\n",
    "        print(f\"{func_name}: {first_line}\")\n",
    "    else:\n",
    "        print(f\"{func_name}: No description available.\")"
   ]
  },
  {
   "cell_type": "code",
   "execution_count": 3,
   "id": "98247a19",
   "metadata": {},
   "outputs": [
    {
     "name": "stdout",
     "output_type": "stream",
     "text": [
      "climate+change\n",
      "gerard.j.nasser@gmail.com\n"
     ]
    }
   ],
   "source": [
    "# Load environment variables from .env file\n",
    "load_dotenv()\n",
    "\n",
    "ez.email = os.environ.get('EMAIL')\n",
    "# ez.api_key = os.environ.get('API_KEY')\n",
    "SEARCH_QUERY = os.environ.get('SEARCH_QUERY')\n",
    "DATABASE = os.environ.get('DATABASE')\n",
    "RETTYPE = os.environ.get('RETTYPE')\n",
    "RETMODE = os.environ.get('RETMODE')\n",
    "\n",
    "print(SEARCH_QUERY)\n",
    "print(ez.email)\n"
   ]
  },
  {
   "cell_type": "code",
   "execution_count": 7,
   "id": "9d15cf84",
   "metadata": {},
   "outputs": [
    {
     "name": "stdout",
     "output_type": "stream",
     "text": [
      "Testing with a simple, hard-coded search term...\n",
      "✅ SUCCESS: The search with the simple term worked!\n",
      "Found 20856 results.\n",
      "\n",
      "--- For debugging, here is the value of your SEARCH_QUERY variable: ---\n",
      "'climate+change'\n"
     ]
    }
   ],
   "source": [
    "# --- Test with a hard-coded, guaranteed-valid search term ---\n",
    "print(\"Testing with a simple, hard-coded search term...\")\n",
    "\n",
    "try:\n",
    "    # A simple, valid PubMed query\n",
    "    simple_term = \"BRCA1 AND human[organism]\"\n",
    "    handle = ez.esearch(db=\"pubmed\",\n",
    "                        term=simple_term,\n",
    "                        usehistory=\"y\")\n",
    "    search_results = ez.read(handle)\n",
    "    handle.close()\n",
    "    print(\"✅ SUCCESS: The search with the simple term worked!\")\n",
    "    print(f\"Found {search_results['Count']} results.\")\n",
    "\n",
    "except Exception as e:\n",
    "    print(f\"❌ FAILURE: The search failed even with a simple term. Error: {e}\")\n",
    "\n",
    "\n",
    "# --- Now, print your actual search query for inspection ---\n",
    "# This line assumes SEARCH_QUERY was loaded in your setup cell.\n",
    "print(\"\\n--- For debugging, here is the value of your SEARCH_QUERY variable: ---\")\n",
    "print(f\"'{SEARCH_QUERY}'\")"
   ]
  },
  {
   "cell_type": "code",
   "execution_count": 5,
   "id": "9e3281e8",
   "metadata": {},
   "outputs": [
    {
     "name": "stdout",
     "output_type": "stream",
     "text": [
      "climate+change\n",
      "Running esearch...\n",
      "Found 116550 results.\n"
     ]
    }
   ],
   "source": [
    "\n",
    "print(SEARCH_QUERY)\n",
    "\n",
    "print(\"Running esearch...\")\n",
    "handle = ez.esearch(db=DATABASE,\n",
    "                        term=SEARCH_QUERY,\n",
    "                        usehistory=\"y\") # IMPORTANT: Use the history server\n",
    "\n",
    "search_results = ez.read(handle)\n",
    "handle.close()\n",
    "\n",
    "# Get the total count and the history server identifiers\n",
    "count = int(search_results[\"Count\"])\n",
    "webenv = search_results[\"WebEnv\"]\n",
    "query_key = search_results[\"QueryKey\"]\n",
    "\n",
    "print(f\"Found {count} results.\")"
   ]
  },
  {
   "cell_type": "code",
   "execution_count": 6,
   "id": "6e8dfafb",
   "metadata": {},
   "outputs": [
    {
     "name": "stdout",
     "output_type": "stream",
     "text": [
      "Fetching records in batches...\n",
      "Fetching records from 1 to 100\n",
      "Fetching records from 101 to 200\n",
      "Fetching records from 201 to 300\n",
      "Fetching records from 301 to 400\n",
      "Fetching records from 401 to 500\n",
      "Fetching records from 501 to 600\n",
      "Fetching records from 601 to 700\n",
      "Fetching records from 701 to 800\n",
      "Fetching records from 801 to 900\n"
     ]
    },
    {
     "ename": "KeyboardInterrupt",
     "evalue": "",
     "output_type": "error",
     "traceback": [
      "\u001b[31m---------------------------------------------------------------------------\u001b[39m",
      "\u001b[31mKeyboardInterrupt\u001b[39m                         Traceback (most recent call last)",
      "\u001b[36mCell\u001b[39m\u001b[36m \u001b[39m\u001b[32mIn[6]\u001b[39m\u001b[32m, line 9\u001b[39m\n\u001b[32m      6\u001b[39m end = \u001b[38;5;28mmin\u001b[39m(count, start + batch_size)\n\u001b[32m      7\u001b[39m \u001b[38;5;28mprint\u001b[39m(\u001b[33mf\u001b[39m\u001b[33m\"\u001b[39m\u001b[33mFetching records from \u001b[39m\u001b[38;5;132;01m{\u001b[39;00mstart+\u001b[32m1\u001b[39m\u001b[38;5;132;01m}\u001b[39;00m\u001b[33m to \u001b[39m\u001b[38;5;132;01m{\u001b[39;00mend\u001b[38;5;132;01m}\u001b[39;00m\u001b[33m\"\u001b[39m)\n\u001b[32m----> \u001b[39m\u001b[32m9\u001b[39m fetch_handle = \u001b[43mez\u001b[49m\u001b[43m.\u001b[49m\u001b[43mefetch\u001b[49m\u001b[43m(\u001b[49m\u001b[43mdb\u001b[49m\u001b[43m \u001b[49m\u001b[43m=\u001b[49m\u001b[43m \u001b[49m\u001b[43mDATABASE\u001b[49m\u001b[43m,\u001b[49m\n\u001b[32m     10\u001b[39m \u001b[43m                             \u001b[49m\u001b[43mrettype\u001b[49m\u001b[43m \u001b[49m\u001b[43m=\u001b[49m\u001b[43m \u001b[49m\u001b[43mRETTYPE\u001b[49m\u001b[43m,\u001b[49m\u001b[43m \u001b[49m\u001b[38;5;66;43;03m# Request XML format for full data\u001b[39;49;00m\n\u001b[32m     11\u001b[39m \u001b[43m                             \u001b[49m\u001b[43mretmode\u001b[49m\u001b[43m=\u001b[49m\u001b[43m \u001b[49m\u001b[43mRETMODE\u001b[49m\u001b[43m,\u001b[49m\n\u001b[32m     12\u001b[39m \u001b[43m                             \u001b[49m\u001b[43mretstart\u001b[49m\u001b[43m=\u001b[49m\u001b[43mstart\u001b[49m\u001b[43m,\u001b[49m\n\u001b[32m     13\u001b[39m \u001b[43m                             \u001b[49m\u001b[43mretmax\u001b[49m\u001b[43m=\u001b[49m\u001b[43mbatch_size\u001b[49m\u001b[43m,\u001b[49m\n\u001b[32m     14\u001b[39m \u001b[43m                             \u001b[49m\u001b[43mwebenv\u001b[49m\u001b[43m=\u001b[49m\u001b[43mwebenv\u001b[49m\u001b[43m,\u001b[49m\u001b[43m \u001b[49m\u001b[38;5;66;43;03m# Use the history server identifiers\u001b[39;49;00m\n\u001b[32m     15\u001b[39m \u001b[43m                             \u001b[49m\u001b[43mquery_key\u001b[49m\u001b[43m=\u001b[49m\u001b[43mquery_key\u001b[49m\u001b[43m)\u001b[49m\n\u001b[32m     17\u001b[39m \u001b[38;5;66;03m# Biopython's ez.read can parse the XML into a structured Python object\u001b[39;00m\n\u001b[32m     18\u001b[39m records = ez.read(fetch_handle)\n",
      "\u001b[36mFile \u001b[39m\u001b[32m~/Desktop/All/Github/Project_Repositories/Prisma_Compliance_Resource/APIs/PubMed_API_Resources_and_Tutorials/.venv/lib/python3.11/site-packages/Bio/Entrez/__init__.py:201\u001b[39m, in \u001b[36mefetch\u001b[39m\u001b[34m(db, **keywords)\u001b[39m\n\u001b[32m    199\u001b[39m variables.update(keywords)\n\u001b[32m    200\u001b[39m request = _build_request(cgi, variables)\n\u001b[32m--> \u001b[39m\u001b[32m201\u001b[39m \u001b[38;5;28;01mreturn\u001b[39;00m \u001b[43m_open\u001b[49m\u001b[43m(\u001b[49m\u001b[43mrequest\u001b[49m\u001b[43m)\u001b[49m\n",
      "\u001b[36mFile \u001b[39m\u001b[32m~/Desktop/All/Github/Project_Repositories/Prisma_Compliance_Resource/APIs/PubMed_API_Resources_and_Tutorials/.venv/lib/python3.11/site-packages/Bio/Entrez/__init__.py:634\u001b[39m, in \u001b[36m_open\u001b[39m\u001b[34m(request)\u001b[39m\n\u001b[32m    632\u001b[39m \u001b[38;5;28;01mfor\u001b[39;00m i \u001b[38;5;129;01min\u001b[39;00m \u001b[38;5;28mrange\u001b[39m(max_tries):\n\u001b[32m    633\u001b[39m     \u001b[38;5;28;01mtry\u001b[39;00m:\n\u001b[32m--> \u001b[39m\u001b[32m634\u001b[39m         handle = \u001b[43murlopen\u001b[49m\u001b[43m(\u001b[49m\u001b[43mrequest\u001b[49m\u001b[43m)\u001b[49m\n\u001b[32m    635\u001b[39m     \u001b[38;5;28;01mexcept\u001b[39;00m HTTPError \u001b[38;5;28;01mas\u001b[39;00m exception:\n\u001b[32m    636\u001b[39m         \u001b[38;5;66;03m# Reraise if the final try fails\u001b[39;00m\n\u001b[32m    637\u001b[39m         \u001b[38;5;28;01mif\u001b[39;00m i >= max_tries - \u001b[32m1\u001b[39m:\n",
      "\u001b[36mFile \u001b[39m\u001b[32m/Library/Frameworks/Python.framework/Versions/3.11/lib/python3.11/urllib/request.py:216\u001b[39m, in \u001b[36murlopen\u001b[39m\u001b[34m(url, data, timeout, cafile, capath, cadefault, context)\u001b[39m\n\u001b[32m    214\u001b[39m \u001b[38;5;28;01melse\u001b[39;00m:\n\u001b[32m    215\u001b[39m     opener = _opener\n\u001b[32m--> \u001b[39m\u001b[32m216\u001b[39m \u001b[38;5;28;01mreturn\u001b[39;00m \u001b[43mopener\u001b[49m\u001b[43m.\u001b[49m\u001b[43mopen\u001b[49m\u001b[43m(\u001b[49m\u001b[43murl\u001b[49m\u001b[43m,\u001b[49m\u001b[43m \u001b[49m\u001b[43mdata\u001b[49m\u001b[43m,\u001b[49m\u001b[43m \u001b[49m\u001b[43mtimeout\u001b[49m\u001b[43m)\u001b[49m\n",
      "\u001b[36mFile \u001b[39m\u001b[32m/Library/Frameworks/Python.framework/Versions/3.11/lib/python3.11/urllib/request.py:519\u001b[39m, in \u001b[36mOpenerDirector.open\u001b[39m\u001b[34m(self, fullurl, data, timeout)\u001b[39m\n\u001b[32m    516\u001b[39m     req = meth(req)\n\u001b[32m    518\u001b[39m sys.audit(\u001b[33m'\u001b[39m\u001b[33murllib.Request\u001b[39m\u001b[33m'\u001b[39m, req.full_url, req.data, req.headers, req.get_method())\n\u001b[32m--> \u001b[39m\u001b[32m519\u001b[39m response = \u001b[38;5;28;43mself\u001b[39;49m\u001b[43m.\u001b[49m\u001b[43m_open\u001b[49m\u001b[43m(\u001b[49m\u001b[43mreq\u001b[49m\u001b[43m,\u001b[49m\u001b[43m \u001b[49m\u001b[43mdata\u001b[49m\u001b[43m)\u001b[49m\n\u001b[32m    521\u001b[39m \u001b[38;5;66;03m# post-process response\u001b[39;00m\n\u001b[32m    522\u001b[39m meth_name = protocol+\u001b[33m\"\u001b[39m\u001b[33m_response\u001b[39m\u001b[33m\"\u001b[39m\n",
      "\u001b[36mFile \u001b[39m\u001b[32m/Library/Frameworks/Python.framework/Versions/3.11/lib/python3.11/urllib/request.py:536\u001b[39m, in \u001b[36mOpenerDirector._open\u001b[39m\u001b[34m(self, req, data)\u001b[39m\n\u001b[32m    533\u001b[39m     \u001b[38;5;28;01mreturn\u001b[39;00m result\n\u001b[32m    535\u001b[39m protocol = req.type\n\u001b[32m--> \u001b[39m\u001b[32m536\u001b[39m result = \u001b[38;5;28;43mself\u001b[39;49m\u001b[43m.\u001b[49m\u001b[43m_call_chain\u001b[49m\u001b[43m(\u001b[49m\u001b[38;5;28;43mself\u001b[39;49m\u001b[43m.\u001b[49m\u001b[43mhandle_open\u001b[49m\u001b[43m,\u001b[49m\u001b[43m \u001b[49m\u001b[43mprotocol\u001b[49m\u001b[43m,\u001b[49m\u001b[43m \u001b[49m\u001b[43mprotocol\u001b[49m\u001b[43m \u001b[49m\u001b[43m+\u001b[49m\n\u001b[32m    537\u001b[39m \u001b[43m                          \u001b[49m\u001b[33;43m'\u001b[39;49m\u001b[33;43m_open\u001b[39;49m\u001b[33;43m'\u001b[39;49m\u001b[43m,\u001b[49m\u001b[43m \u001b[49m\u001b[43mreq\u001b[49m\u001b[43m)\u001b[49m\n\u001b[32m    538\u001b[39m \u001b[38;5;28;01mif\u001b[39;00m result:\n\u001b[32m    539\u001b[39m     \u001b[38;5;28;01mreturn\u001b[39;00m result\n",
      "\u001b[36mFile \u001b[39m\u001b[32m/Library/Frameworks/Python.framework/Versions/3.11/lib/python3.11/urllib/request.py:496\u001b[39m, in \u001b[36mOpenerDirector._call_chain\u001b[39m\u001b[34m(self, chain, kind, meth_name, *args)\u001b[39m\n\u001b[32m    494\u001b[39m \u001b[38;5;28;01mfor\u001b[39;00m handler \u001b[38;5;129;01min\u001b[39;00m handlers:\n\u001b[32m    495\u001b[39m     func = \u001b[38;5;28mgetattr\u001b[39m(handler, meth_name)\n\u001b[32m--> \u001b[39m\u001b[32m496\u001b[39m     result = \u001b[43mfunc\u001b[49m\u001b[43m(\u001b[49m\u001b[43m*\u001b[49m\u001b[43margs\u001b[49m\u001b[43m)\u001b[49m\n\u001b[32m    497\u001b[39m     \u001b[38;5;28;01mif\u001b[39;00m result \u001b[38;5;129;01mis\u001b[39;00m \u001b[38;5;129;01mnot\u001b[39;00m \u001b[38;5;28;01mNone\u001b[39;00m:\n\u001b[32m    498\u001b[39m         \u001b[38;5;28;01mreturn\u001b[39;00m result\n",
      "\u001b[36mFile \u001b[39m\u001b[32m/Library/Frameworks/Python.framework/Versions/3.11/lib/python3.11/urllib/request.py:1391\u001b[39m, in \u001b[36mHTTPSHandler.https_open\u001b[39m\u001b[34m(self, req)\u001b[39m\n\u001b[32m   1390\u001b[39m \u001b[38;5;28;01mdef\u001b[39;00m\u001b[38;5;250m \u001b[39m\u001b[34mhttps_open\u001b[39m(\u001b[38;5;28mself\u001b[39m, req):\n\u001b[32m-> \u001b[39m\u001b[32m1391\u001b[39m     \u001b[38;5;28;01mreturn\u001b[39;00m \u001b[38;5;28;43mself\u001b[39;49m\u001b[43m.\u001b[49m\u001b[43mdo_open\u001b[49m\u001b[43m(\u001b[49m\u001b[43mhttp\u001b[49m\u001b[43m.\u001b[49m\u001b[43mclient\u001b[49m\u001b[43m.\u001b[49m\u001b[43mHTTPSConnection\u001b[49m\u001b[43m,\u001b[49m\u001b[43m \u001b[49m\u001b[43mreq\u001b[49m\u001b[43m,\u001b[49m\n\u001b[32m   1392\u001b[39m \u001b[43m        \u001b[49m\u001b[43mcontext\u001b[49m\u001b[43m=\u001b[49m\u001b[38;5;28;43mself\u001b[39;49m\u001b[43m.\u001b[49m\u001b[43m_context\u001b[49m\u001b[43m,\u001b[49m\u001b[43m \u001b[49m\u001b[43mcheck_hostname\u001b[49m\u001b[43m=\u001b[49m\u001b[38;5;28;43mself\u001b[39;49m\u001b[43m.\u001b[49m\u001b[43m_check_hostname\u001b[49m\u001b[43m)\u001b[49m\n",
      "\u001b[36mFile \u001b[39m\u001b[32m/Library/Frameworks/Python.framework/Versions/3.11/lib/python3.11/urllib/request.py:1352\u001b[39m, in \u001b[36mAbstractHTTPHandler.do_open\u001b[39m\u001b[34m(self, http_class, req, **http_conn_args)\u001b[39m\n\u001b[32m   1350\u001b[39m     \u001b[38;5;28;01mexcept\u001b[39;00m \u001b[38;5;167;01mOSError\u001b[39;00m \u001b[38;5;28;01mas\u001b[39;00m err: \u001b[38;5;66;03m# timeout error\u001b[39;00m\n\u001b[32m   1351\u001b[39m         \u001b[38;5;28;01mraise\u001b[39;00m URLError(err)\n\u001b[32m-> \u001b[39m\u001b[32m1352\u001b[39m     r = \u001b[43mh\u001b[49m\u001b[43m.\u001b[49m\u001b[43mgetresponse\u001b[49m\u001b[43m(\u001b[49m\u001b[43m)\u001b[49m\n\u001b[32m   1353\u001b[39m \u001b[38;5;28;01mexcept\u001b[39;00m:\n\u001b[32m   1354\u001b[39m     h.close()\n",
      "\u001b[36mFile \u001b[39m\u001b[32m/Library/Frameworks/Python.framework/Versions/3.11/lib/python3.11/http/client.py:1378\u001b[39m, in \u001b[36mHTTPConnection.getresponse\u001b[39m\u001b[34m(self)\u001b[39m\n\u001b[32m   1376\u001b[39m \u001b[38;5;28;01mtry\u001b[39;00m:\n\u001b[32m   1377\u001b[39m     \u001b[38;5;28;01mtry\u001b[39;00m:\n\u001b[32m-> \u001b[39m\u001b[32m1378\u001b[39m         \u001b[43mresponse\u001b[49m\u001b[43m.\u001b[49m\u001b[43mbegin\u001b[49m\u001b[43m(\u001b[49m\u001b[43m)\u001b[49m\n\u001b[32m   1379\u001b[39m     \u001b[38;5;28;01mexcept\u001b[39;00m \u001b[38;5;167;01mConnectionError\u001b[39;00m:\n\u001b[32m   1380\u001b[39m         \u001b[38;5;28mself\u001b[39m.close()\n",
      "\u001b[36mFile \u001b[39m\u001b[32m/Library/Frameworks/Python.framework/Versions/3.11/lib/python3.11/http/client.py:318\u001b[39m, in \u001b[36mHTTPResponse.begin\u001b[39m\u001b[34m(self)\u001b[39m\n\u001b[32m    316\u001b[39m \u001b[38;5;66;03m# read until we get a non-100 response\u001b[39;00m\n\u001b[32m    317\u001b[39m \u001b[38;5;28;01mwhile\u001b[39;00m \u001b[38;5;28;01mTrue\u001b[39;00m:\n\u001b[32m--> \u001b[39m\u001b[32m318\u001b[39m     version, status, reason = \u001b[38;5;28;43mself\u001b[39;49m\u001b[43m.\u001b[49m\u001b[43m_read_status\u001b[49m\u001b[43m(\u001b[49m\u001b[43m)\u001b[49m\n\u001b[32m    319\u001b[39m     \u001b[38;5;28;01mif\u001b[39;00m status != CONTINUE:\n\u001b[32m    320\u001b[39m         \u001b[38;5;28;01mbreak\u001b[39;00m\n",
      "\u001b[36mFile \u001b[39m\u001b[32m/Library/Frameworks/Python.framework/Versions/3.11/lib/python3.11/http/client.py:279\u001b[39m, in \u001b[36mHTTPResponse._read_status\u001b[39m\u001b[34m(self)\u001b[39m\n\u001b[32m    278\u001b[39m \u001b[38;5;28;01mdef\u001b[39;00m\u001b[38;5;250m \u001b[39m\u001b[34m_read_status\u001b[39m(\u001b[38;5;28mself\u001b[39m):\n\u001b[32m--> \u001b[39m\u001b[32m279\u001b[39m     line = \u001b[38;5;28mstr\u001b[39m(\u001b[38;5;28mself\u001b[39m.fp.readline(_MAXLINE + \u001b[32m1\u001b[39m), \u001b[33m\"\u001b[39m\u001b[33miso-8859-1\u001b[39m\u001b[33m\"\u001b[39m)\n\u001b[32m    280\u001b[39m     \u001b[38;5;28;01mif\u001b[39;00m \u001b[38;5;28mlen\u001b[39m(line) > _MAXLINE:\n\u001b[32m    281\u001b[39m         \u001b[38;5;28;01mraise\u001b[39;00m LineTooLong(\u001b[33m\"\u001b[39m\u001b[33mstatus line\u001b[39m\u001b[33m\"\u001b[39m)\n",
      "\u001b[36mFile \u001b[39m\u001b[32m/Library/Frameworks/Python.framework/Versions/3.11/lib/python3.11/socket.py:706\u001b[39m, in \u001b[36mSocketIO.readinto\u001b[39m\u001b[34m(self, b)\u001b[39m\n\u001b[32m    704\u001b[39m \u001b[38;5;28;01mwhile\u001b[39;00m \u001b[38;5;28;01mTrue\u001b[39;00m:\n\u001b[32m    705\u001b[39m     \u001b[38;5;28;01mtry\u001b[39;00m:\n\u001b[32m--> \u001b[39m\u001b[32m706\u001b[39m         \u001b[38;5;28;01mreturn\u001b[39;00m \u001b[38;5;28;43mself\u001b[39;49m\u001b[43m.\u001b[49m\u001b[43m_sock\u001b[49m\u001b[43m.\u001b[49m\u001b[43mrecv_into\u001b[49m\u001b[43m(\u001b[49m\u001b[43mb\u001b[49m\u001b[43m)\u001b[49m\n\u001b[32m    707\u001b[39m     \u001b[38;5;28;01mexcept\u001b[39;00m timeout:\n\u001b[32m    708\u001b[39m         \u001b[38;5;28mself\u001b[39m._timeout_occurred = \u001b[38;5;28;01mTrue\u001b[39;00m\n",
      "\u001b[36mFile \u001b[39m\u001b[32m/Library/Frameworks/Python.framework/Versions/3.11/lib/python3.11/ssl.py:1311\u001b[39m, in \u001b[36mSSLSocket.recv_into\u001b[39m\u001b[34m(self, buffer, nbytes, flags)\u001b[39m\n\u001b[32m   1307\u001b[39m     \u001b[38;5;28;01mif\u001b[39;00m flags != \u001b[32m0\u001b[39m:\n\u001b[32m   1308\u001b[39m         \u001b[38;5;28;01mraise\u001b[39;00m \u001b[38;5;167;01mValueError\u001b[39;00m(\n\u001b[32m   1309\u001b[39m           \u001b[33m\"\u001b[39m\u001b[33mnon-zero flags not allowed in calls to recv_into() on \u001b[39m\u001b[38;5;132;01m%s\u001b[39;00m\u001b[33m\"\u001b[39m %\n\u001b[32m   1310\u001b[39m           \u001b[38;5;28mself\u001b[39m.\u001b[34m__class__\u001b[39m)\n\u001b[32m-> \u001b[39m\u001b[32m1311\u001b[39m     \u001b[38;5;28;01mreturn\u001b[39;00m \u001b[38;5;28;43mself\u001b[39;49m\u001b[43m.\u001b[49m\u001b[43mread\u001b[49m\u001b[43m(\u001b[49m\u001b[43mnbytes\u001b[49m\u001b[43m,\u001b[49m\u001b[43m \u001b[49m\u001b[43mbuffer\u001b[49m\u001b[43m)\u001b[49m\n\u001b[32m   1312\u001b[39m \u001b[38;5;28;01melse\u001b[39;00m:\n\u001b[32m   1313\u001b[39m     \u001b[38;5;28;01mreturn\u001b[39;00m \u001b[38;5;28msuper\u001b[39m().recv_into(buffer, nbytes, flags)\n",
      "\u001b[36mFile \u001b[39m\u001b[32m/Library/Frameworks/Python.framework/Versions/3.11/lib/python3.11/ssl.py:1167\u001b[39m, in \u001b[36mSSLSocket.read\u001b[39m\u001b[34m(self, len, buffer)\u001b[39m\n\u001b[32m   1165\u001b[39m \u001b[38;5;28;01mtry\u001b[39;00m:\n\u001b[32m   1166\u001b[39m     \u001b[38;5;28;01mif\u001b[39;00m buffer \u001b[38;5;129;01mis\u001b[39;00m \u001b[38;5;129;01mnot\u001b[39;00m \u001b[38;5;28;01mNone\u001b[39;00m:\n\u001b[32m-> \u001b[39m\u001b[32m1167\u001b[39m         \u001b[38;5;28;01mreturn\u001b[39;00m \u001b[38;5;28;43mself\u001b[39;49m\u001b[43m.\u001b[49m\u001b[43m_sslobj\u001b[49m\u001b[43m.\u001b[49m\u001b[43mread\u001b[49m\u001b[43m(\u001b[49m\u001b[38;5;28;43mlen\u001b[39;49m\u001b[43m,\u001b[49m\u001b[43m \u001b[49m\u001b[43mbuffer\u001b[49m\u001b[43m)\u001b[49m\n\u001b[32m   1168\u001b[39m     \u001b[38;5;28;01melse\u001b[39;00m:\n\u001b[32m   1169\u001b[39m         \u001b[38;5;28;01mreturn\u001b[39;00m \u001b[38;5;28mself\u001b[39m._sslobj.read(\u001b[38;5;28mlen\u001b[39m)\n",
      "\u001b[31mKeyboardInterrupt\u001b[39m: "
     ]
    }
   ],
   "source": [
    "batch_size = 100\n",
    "all_records = []\n",
    "\n",
    "print(\"Fetching records in batches...\")\n",
    "for start in range(0, count, batch_size):\n",
    "    end = min(count, start + batch_size)\n",
    "    print(f\"Fetching records from {start+1} to {end}\")\n",
    "    \n",
    "    fetch_handle = ez.efetch(db = DATABASE,\n",
    "                                 rettype = RETTYPE, # Request XML format for full data\n",
    "                                 retmode= RETMODE,\n",
    "                                 retstart=start,\n",
    "                                 retmax=batch_size,\n",
    "                                 webenv=webenv, # Use the history server identifiers\n",
    "                                 query_key=query_key)\n",
    "    \n",
    "    # Biopython's ez.read can parse the XML into a structured Python object\n",
    "    records = ez.read(fetch_handle)\n",
    "    fetch_handle.close()\n",
    "    \n",
    "    # The actual articles are in the 'PubmedArticle' list\n",
    "    all_records.extend(records['PubmedArticle'])\n",
    "    \n",
    "    # Be nice to the server! A short delay between requests.\n",
    "    sleep(0.3)\n",
    "\n",
    "print(\"Finished fetching all records.\")"
   ]
  },
  {
   "cell_type": "code",
   "execution_count": null,
   "id": "68b17327",
   "metadata": {},
   "outputs": [],
   "source": [
    "parsed_articles = []\n",
    "for article in all_records:\n",
    "    citation = article['MedlineCitation']\n",
    "\n",
    "    # Use .get() to avoid errors if a key is missing\n",
    "    title = citation['Article'].get('ArticleTitle', 'No Title Found')\n",
    "\n",
    "    abstract_parts = citation['Article'].get('Abstract', {}).get('AbstractText', [])\n",
    "    abstract = ' '.join(abstract_parts) if abstract_parts else 'No Abstract Found'\n",
    "\n",
    "    journal_info = citation['Article'].get('Journal', {})\n",
    "    journal_name = journal_info.get('Title', 'No Journal Found')\n",
    "    \n",
    "    pub_date = journal_info.get('JournalIssue', {}).get('PubDate', {})\n",
    "    year = pub_date.get('Year', pub_date.get('MedlineDate', 'No Year Found'))\n",
    "\n",
    "    pmid = citation.get('PMID', '')\n",
    "\n",
    "    parsed_articles.append({\n",
    "        'PMID': str(pmid),\n",
    "        'Title': title,\n",
    "        'Abstract': abstract,\n",
    "        'Journal': journal_name,\n",
    "        'Year': year\n",
    "    })\n",
    "\n",
    "df = pd.DataFrame(parsed_articles)\n",
    "df.to_csv(\"systematic_review_results.csv\", index=False)\n",
    "\n",
    "print(\"\\nSuccessfully parsed and saved results to systematic_review_results.csv\")\n",
    "print(df.head()) # Display the first few rows"
   ]
  }
 ],
 "metadata": {
  "kernelspec": {
   "display_name": ".venv",
   "language": "python",
   "name": "python3"
  },
  "language_info": {
   "codemirror_mode": {
    "name": "ipython",
    "version": 3
   },
   "file_extension": ".py",
   "mimetype": "text/x-python",
   "name": "python",
   "nbconvert_exporter": "python",
   "pygments_lexer": "ipython3",
   "version": "3.11.5"
  }
 },
 "nbformat": 4,
 "nbformat_minor": 5
}
