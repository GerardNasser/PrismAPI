{
 "cells": [
  {
   "cell_type": "code",
   "execution_count": 2,
   "id": "98247a19",
   "metadata": {},
   "outputs": [
    {
     "name": "stdout",
     "output_type": "stream",
     "text": [
      "Requirement already satisfied: requests in /Library/Frameworks/Python.framework/Versions/3.13/lib/python3.13/site-packages (2.32.4)\n",
      "Requirement already satisfied: charset_normalizer<4,>=2 in /Library/Frameworks/Python.framework/Versions/3.13/lib/python3.13/site-packages (from requests) (3.4.3)\n",
      "Requirement already satisfied: idna<4,>=2.5 in /Library/Frameworks/Python.framework/Versions/3.13/lib/python3.13/site-packages (from requests) (3.10)\n",
      "Requirement already satisfied: urllib3<3,>=1.21.1 in /Library/Frameworks/Python.framework/Versions/3.13/lib/python3.13/site-packages (from requests) (2.0.7)\n",
      "Requirement already satisfied: certifi>=2017.4.17 in /Library/Frameworks/Python.framework/Versions/3.13/lib/python3.13/site-packages (from requests) (2025.8.3)\n",
      "Note: you may need to restart the kernel to use updated packages.\n",
      "Requirement already satisfied: pandas in /Library/Frameworks/Python.framework/Versions/3.13/lib/python3.13/site-packages (2.3.1)\n",
      "Requirement already satisfied: numpy>=1.26.0 in /Library/Frameworks/Python.framework/Versions/3.13/lib/python3.13/site-packages (from pandas) (2.3.2)\n",
      "Requirement already satisfied: python-dateutil>=2.8.2 in /Users/gerardnasseruncc/Library/Python/3.13/lib/python/site-packages (from pandas) (2.9.0.post0)\n",
      "Requirement already satisfied: pytz>=2020.1 in /Library/Frameworks/Python.framework/Versions/3.13/lib/python3.13/site-packages (from pandas) (2025.2)\n",
      "Requirement already satisfied: tzdata>=2022.7 in /Library/Frameworks/Python.framework/Versions/3.13/lib/python3.13/site-packages (from pandas) (2025.2)\n",
      "Requirement already satisfied: six>=1.5 in /Users/gerardnasseruncc/Library/Python/3.13/lib/python/site-packages (from python-dateutil>=2.8.2->pandas) (1.17.0)\n",
      "Note: you may need to restart the kernel to use updated packages.\n",
      "Requirement already satisfied: elsapy in /Library/Frameworks/Python.framework/Versions/3.13/lib/python3.13/site-packages (0.5.1)\n",
      "Requirement already satisfied: requests in /Library/Frameworks/Python.framework/Versions/3.13/lib/python3.13/site-packages (from elsapy) (2.32.4)\n",
      "Requirement already satisfied: charset_normalizer<4,>=2 in /Library/Frameworks/Python.framework/Versions/3.13/lib/python3.13/site-packages (from requests->elsapy) (3.4.3)\n",
      "Requirement already satisfied: idna<4,>=2.5 in /Library/Frameworks/Python.framework/Versions/3.13/lib/python3.13/site-packages (from requests->elsapy) (3.10)\n",
      "Requirement already satisfied: urllib3<3,>=1.21.1 in /Library/Frameworks/Python.framework/Versions/3.13/lib/python3.13/site-packages (from requests->elsapy) (2.0.7)\n",
      "Requirement already satisfied: certifi>=2017.4.17 in /Library/Frameworks/Python.framework/Versions/3.13/lib/python3.13/site-packages (from requests->elsapy) (2025.8.3)\n",
      "Note: you may need to restart the kernel to use updated packages.\n"
     ]
    }
   ],
   "source": [
    "%pip install requests\n",
    "%pip install pandas\n",
    "%pip install elsapy"
   ]
  },
  {
   "cell_type": "code",
   "execution_count": 18,
   "id": "6e8dfafb",
   "metadata": {},
   "outputs": [],
   "source": [
    "from elsapy.elsclient import ElsClient\n",
    "from elsapy.elsprofile import ElsAuthor, ElsAffil\n",
    "from elsapy.elsdoc import FullDoc, AbsDoc\n",
    "from elsapy.elssearch import ElsSearch\n",
    "import pandas as pd\n",
    "import json"
   ]
  },
  {
   "cell_type": "code",
   "execution_count": 4,
   "id": "68b17327",
   "metadata": {},
   "outputs": [],
   "source": [
    "## Load configuration\n",
    "con_file = open(\"config.json\")\n",
    "config = json.load(con_file)\n",
    "con_file.close()"
   ]
  },
  {
   "cell_type": "code",
   "execution_count": null,
   "id": "faf9a516",
   "metadata": {},
   "outputs": [
    {
     "name": "stdout",
     "output_type": "stream",
     "text": [
      "<class 'elsapy.elssearch.ElsSearch'>\n"
     ]
    }
   ],
   "source": [
    "## Initialize client\n",
    "client = ElsClient(config['apikey'])"
   ]
  },
  {
   "cell_type": "code",
   "execution_count": 27,
   "id": "8da33c63",
   "metadata": {},
   "outputs": [],
   "source": [
    "search_query = 'TITLE-ABS-KEY\"((\"indoor spaces\" OR \"indoor environment\" OR \"built environment\") AND (\"plant wall\" OR \"green wall\") AND (\"16S rrna\" OR \"16s sequencing\" OR \"16s rna\" OR \"shotgun sequencing\")\"'\n",
    "doc_search = ElsSearch(search_query, 'sciencedirect')\n",
    "doc_search.execute(client, get_all=True)\n",
    "\n",
    "# The results are available in the 'results' attribute\n",
    "results_list = doc_search.results\n"
   ]
  },
  {
   "cell_type": "code",
   "execution_count": 28,
   "id": "fccadadf",
   "metadata": {},
   "outputs": [
    {
     "name": "stdout",
     "output_type": "stream",
     "text": [
      "[{'@_fa': 'true', 'load-date': '2025-01-13T00:00:00.000Z', 'link': [{'@_fa': 'true', '@ref': 'self', '@href': 'https://api.elsevier.com/content/article/pii/S0378778825000428'}, {'@_fa': 'true', '@ref': 'scidir', '@href': 'https://www.sciencedirect.com/science/article/pii/S0378778825000428?dgcid=api_sd_search-api-endpoint'}], 'dc:identifier': 'DOI:10.1016/j.enbuild.2025.115312', 'prism:url': 'https://api.elsevier.com/content/article/pii/S0378778825000428', 'dc:title': 'The multifaceted role of indoor plants: A comprehensive review of their impact on air quality, health, and perception', 'dc:creator': 'Hind Rasheed', 'prism:publicationName': 'Energy and Buildings', 'prism:volume': '330', 'prism:coverDate': '2025-03-01', 'prism:startingPage': '115312', 'prism:doi': '10.1016/j.enbuild.2025.115312', 'openaccess': False, 'pii': 'S0378778825000428', 'authors': {'author': [{'$': 'Hind Rasheed'}, {'$': 'T K Jayasree'}]}}, {'@_fa': 'true', 'load-date': '2025-07-22T00:00:00.000Z', 'link': [{'@_fa': 'true', '@ref': 'self', '@href': 'https://api.elsevier.com/content/article/pii/S2352710225017115'}, {'@_fa': 'true', '@ref': 'scidir', '@href': 'https://www.sciencedirect.com/science/article/pii/S2352710225017115?dgcid=api_sd_search-api-endpoint'}], 'dc:identifier': 'DOI:10.1016/j.jobe.2025.113474', 'prism:url': 'https://api.elsevier.com/content/article/pii/S2352710225017115', 'dc:title': 'Predictive modelling and multi-scenario validation of indoor micro-climate thermal-humidity conditions', 'dc:creator': 'Kaiyun Jiang', 'prism:publicationName': 'Journal of Building Engineering', 'prism:volume': '111', 'prism:coverDate': '2025-10-01', 'prism:startingPage': '113474', 'prism:doi': '10.1016/j.jobe.2025.113474', 'openaccess': False, 'pii': 'S2352710225017115', 'authors': {'author': [{'$': 'Kaiyun Jiang'}, {'$': 'Norhayati Mahyuddin'}, {'$': 'Zhibo Zhao'}]}}, {'@_fa': 'true', 'load-date': '2024-02-15T00:00:00.000Z', 'link': [{'@_fa': 'true', '@ref': 'self', '@href': 'https://api.elsevier.com/content/article/pii/S2352710224003553'}, {'@_fa': 'true', '@ref': 'scidir', '@href': 'https://www.sciencedirect.com/science/article/pii/S2352710224003553?dgcid=api_sd_search-api-endpoint'}], 'dc:identifier': 'DOI:10.1016/j.jobe.2024.108787', 'prism:url': 'https://api.elsevier.com/content/article/pii/S2352710224003553', 'dc:title': 'Indoor environmental quality (IEQ) in healthcare facilities: A systematic literature review and gap analysis', 'dc:creator': 'Aniebietabasi Ackley', 'prism:publicationName': 'Journal of Building Engineering', 'prism:volume': '86', 'prism:coverDate': '2024-06-01', 'prism:startingPage': '108787', 'prism:doi': '10.1016/j.jobe.2024.108787', 'openaccess': True, 'pii': 'S2352710224003553', 'authors': {'author': [{'$': 'Aniebietabasi Ackley'}, {'$': 'Oludolapo Ibrahim Olanrewaju'}, {'$': 'Paulina Akpan-Idiok'}]}}, {'@_fa': 'true', 'load-date': '2025-06-11T00:00:00.000Z', 'link': [{'@_fa': 'true', '@ref': 'self', '@href': 'https://api.elsevier.com/content/article/pii/S221067072500410X'}, {'@_fa': 'true', '@ref': 'scidir', '@href': 'https://www.sciencedirect.com/science/article/pii/S221067072500410X?dgcid=api_sd_search-api-endpoint'}], 'dc:identifier': 'DOI:10.1016/j.scs.2025.106535', 'prism:url': 'https://api.elsevier.com/content/article/pii/S221067072500410X', 'dc:title': 'A mixed-method systematic review of indoor environmental quality (IEQ) gaps and opportunities for future research', 'dc:creator': 'Sunday S. Nunayon', 'prism:publicationName': 'Sustainable Cities and Society', 'prism:volume': '130', 'prism:coverDate': '2025-07-15', 'prism:startingPage': '106535', 'prism:doi': '10.1016/j.scs.2025.106535', 'openaccess': True, 'pii': 'S221067072500410X', 'authors': {'author': [{'$': 'Sunday S. Nunayon'}, {'$': 'Lexuan Zhong'}]}}, {'@_fa': 'true', 'load-date': '2023-10-05T00:00:00.000Z', 'link': [{'@_fa': 'true', '@ref': 'self', '@href': 'https://api.elsevier.com/content/article/pii/S2405665023000720'}, {'@_fa': 'true', '@ref': 'scidir', '@href': 'https://www.sciencedirect.com/science/article/pii/S2405665023000720?dgcid=api_sd_search-api-endpoint'}], 'dc:identifier': 'DOI:10.1016/j.emcon.2023.100274', 'prism:url': 'https://api.elsevier.com/content/article/pii/S2405665023000720', 'dc:title': 'A systematic literature review and bibliometric analysis of sources and analytical approaches of indoor microplastics', 'dc:creator': 'Nisarg Mehta', 'prism:publicationName': 'Emerging Contaminants', 'prism:volume': '10', 'prism:coverDate': '2024-03-31', 'prism:startingPage': '100274', 'prism:doi': '10.1016/j.emcon.2023.100274', 'openaccess': True, 'pii': 'S2405665023000720', 'authors': {'author': [{'$': 'Nisarg Mehta'}, {'$': 'Barbara Kozielska'}]}}]\n",
      "Retrieved 550 documents.\n"
     ]
    }
   ],
   "source": [
    "print(results_list[:5])  # Print the first 5 results\n",
    "print(f\"Retrieved {len(results_list)} documents.\")"
   ]
  },
  {
   "cell_type": "code",
   "execution_count": null,
   "id": "cd4042a2",
   "metadata": {},
   "outputs": [],
   "source": [
    "## Author example\n",
    "# Initialize author with uri\n",
    "my_auth = ElsAuthor(\n",
    "        uri = 'https://api.elsevier.com/content/author/author_id/7004367821')\n",
    "# Read author data, then write to disk\n",
    "if my_auth.read(client):\n",
    "    print (\"my_auth.full_name: \", my_auth.full_name)\n",
    "    my_auth.write()\n",
    "else:\n",
    "    print (\"Read author failed.\")"
   ]
  },
  {
   "cell_type": "code",
   "execution_count": null,
   "id": "cca253fb",
   "metadata": {},
   "outputs": [],
   "source": [
    "## Affiliation example\n",
    "# Initialize affiliation with ID as string\n",
    "my_aff = ElsAffil(affil_id = '60101411')\n",
    "if my_aff.read(client):\n",
    "    print (\"my_aff.name: \", my_aff.name)\n",
    "    my_aff.write()\n",
    "else:\n",
    "    print (\"Read affiliation failed.\")"
   ]
  },
  {
   "cell_type": "code",
   "execution_count": null,
   "id": "85f69d13",
   "metadata": {},
   "outputs": [],
   "source": [
    "## Scopus (Abtract) document example\n",
    "# Initialize document with ID as integer\n",
    "scp_doc = AbsDoc(scp_id = 84872135457)\n",
    "if scp_doc.read(client):\n",
    "    print (\"scp_doc.title: \", scp_doc.title)\n",
    "    scp_doc.write()   \n",
    "else:\n",
    "    print (\"Read document failed.\")"
   ]
  },
  {
   "cell_type": "code",
   "execution_count": null,
   "id": "cbbe556f",
   "metadata": {},
   "outputs": [],
   "source": [
    "## ScienceDirect (full-text) document example using PII\n",
    "pii_doc = FullDoc(sd_pii = 'S1674927814000082')\n",
    "if pii_doc.read(client):\n",
    "    print (\"pii_doc.title: \", pii_doc.title)\n",
    "    pii_doc.write()   \n",
    "else:\n",
    "    print (\"Read document failed.\")"
   ]
  },
  {
   "cell_type": "code",
   "execution_count": null,
   "id": "e9086270",
   "metadata": {},
   "outputs": [],
   "source": [
    "## ScienceDirect (full-text) document example using DOI\n",
    "doi_doc = FullDoc(doi = '10.1016/S1525-1578(10)60571-5')\n",
    "if doi_doc.read(client):\n",
    "    print (\"doi_doc.title: \", doi_doc.title)\n",
    "    doi_doc.write()   \n",
    "else:\n",
    "    print (\"Read document failed.\")"
   ]
  },
  {
   "cell_type": "code",
   "execution_count": null,
   "id": "b2d206ff",
   "metadata": {},
   "outputs": [],
   "source": [
    "## Load list of documents from the API into affilation and author objects.\n",
    "# Since a document list is retrieved for 25 entries at a time, this is\n",
    "#  a potentially lenghty operation - hence the prompt.\n",
    "print (\"Load documents (Y/N)?\")\n",
    "s = input('--> ')\n",
    "\n",
    "if (s == \"y\" or s == \"Y\"):\n",
    "\n",
    "    ## Read all documents for example author, then write to disk\n",
    "    if my_auth.read_docs(client):\n",
    "        print (\"my_auth.doc_list has \" + str(len(my_auth.doc_list)) + \" items.\")\n",
    "        my_auth.write_docs()\n",
    "    else:\n",
    "        print (\"Read docs for author failed.\")\n",
    "\n",
    "    ## Read all documents for example affiliation, then write to disk\n",
    "    if my_aff.read_docs(client):\n",
    "        print (\"my_aff.doc_list has \" + str(len(my_aff.doc_list)) + \" items.\")\n",
    "        my_aff.write_docs()\n",
    "    else:\n",
    "        print (\"Read docs for affiliation failed.\")"
   ]
  },
  {
   "cell_type": "code",
   "execution_count": null,
   "id": "fb8cd8f1",
   "metadata": {},
   "outputs": [],
   "source": [
    "## Initialize author search object and execute search\n",
    "auth_srch = ElsSearch('authlast(keuskamp)','author')\n",
    "auth_srch.execute(client)\n",
    "print (\"auth_srch has\", len(auth_srch.results), \"results.\")"
   ]
  },
  {
   "cell_type": "code",
   "execution_count": null,
   "id": "d5754691",
   "metadata": {},
   "outputs": [],
   "source": [
    "## Initialize affiliation search object and execute search\n",
    "aff_srch = ElsSearch('affil(amsterdam)','affiliation')\n",
    "aff_srch.execute(client)\n",
    "print (\"aff_srch has\", len(aff_srch.results), \"results.\")"
   ]
  },
  {
   "cell_type": "code",
   "execution_count": null,
   "id": "4bfb1d6b",
   "metadata": {},
   "outputs": [],
   "source": [
    "## Initialize doc search object using Scopus and execute search, retrieving \n",
    "#   all results\n",
    "doc_srch = ElsSearch(\"AFFIL(dartmouth) AND AUTHOR-NAME(lewis) AND PUBYEAR > 2011\",'scopus')\n",
    "doc_srch.execute(client, get_all = True)\n",
    "print (\"doc_srch has\", len(doc_srch.results), \"results.\")"
   ]
  },
  {
   "cell_type": "code",
   "execution_count": null,
   "id": "0b2edca2",
   "metadata": {},
   "outputs": [],
   "source": [
    "## Initialize doc search object using ScienceDirect and execute search, \n",
    "#   retrieving all results\n",
    "doc_srch = ElsSearch(\"star trek vs star wars\",'sciencedirect')\n",
    "doc_srch.execute(client, get_all = False)\n",
    "print (\"doc_srch has\", len(doc_srch.results), \"results.\")"
   ]
  }
 ],
 "metadata": {
  "kernelspec": {
   "display_name": "Python 3",
   "language": "python",
   "name": "python3"
  },
  "language_info": {
   "codemirror_mode": {
    "name": "ipython",
    "version": 3
   },
   "file_extension": ".py",
   "mimetype": "text/x-python",
   "name": "python",
   "nbconvert_exporter": "python",
   "pygments_lexer": "ipython3",
   "version": "3.13.7"
  }
 },
 "nbformat": 4,
 "nbformat_minor": 5
}
